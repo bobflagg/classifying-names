{
 "cells": [
  {
   "cell_type": "code",
   "execution_count": 1,
   "metadata": {
    "collapsed": true
   },
   "outputs": [],
   "source": [
    "%load_ext autoreload\n",
    "%autoreload 2\n",
    "\n",
    "%matplotlib inline"
   ]
  },
  {
   "cell_type": "code",
   "execution_count": 2,
   "metadata": {
    "collapsed": true
   },
   "outputs": [],
   "source": [
    "from names import NamesDataset\n",
    "import matplotlib.pyplot as plt\n",
    "import matplotlib.ticker as ticker\n",
    "import torch\n",
    "from torch import nn\n",
    "from torch.nn import functional as F\n",
    "import torch.optim as optim\n",
    "from util import get_accuracy, show_confusion"
   ]
  },
  {
   "cell_type": "code",
   "execution_count": 3,
   "metadata": {},
   "outputs": [
    {
     "name": "stdout",
     "output_type": "stream",
     "text": [
      "Names batch shape/type: torch.Size([16, 19, 57]) / torch.float32\n",
      "Labels batch shape/type: torch.Size([16]) / torch.float32\n"
     ]
    }
   ],
   "source": [
    "batch_size = 16\n",
    "dataset = NamesDataset(directory='./data/names/', verbose=False)\n",
    "train_loader, test_loader = dataset.build_data_loaders(batch_size)\n",
    "X, y = iter(train_loader).next()\n",
    "print(\"Names batch shape/type:\", X.shape, \"/\", X.dtype)\n",
    "print(\"Labels batch shape/type:\", y.shape, \"/\", y.dtype)\n"
   ]
  },
  {
   "cell_type": "code",
   "execution_count": 26,
   "metadata": {
    "collapsed": true
   },
   "outputs": [],
   "source": [
    "class NameClassifierConv(nn.Module):\n",
    "    def __init__(self, in_channels, out_channels, n_outputs, dropout):\n",
    "        super(NameClassifierConv, self).__init__()\n",
    "        \n",
    "        self.in_channels = in_channels\n",
    "        self.out_channels = out_channels\n",
    "        self.n_outputs = n_outputs\n",
    "        self.dropout = dropout\n",
    "        \n",
    "        kernel_sizes = [1, 2, 3]\n",
    "        n_kernels = len(kernel_sizes)\n",
    "        self._convs = nn.ModuleList([\n",
    "            nn.Conv1d(in_channels, out_channels, i) for i in kernel_sizes\n",
    "        ])\n",
    "        \n",
    "        self.FC = nn.Linear(n_kernels * out_channels, n_outputs)\n",
    "    \n",
    "    def forward(self, X):\n",
    "        # transforms X to dimensions: batch-size x in-channels x seq-len\n",
    "        conv_in = X.transpose(1, 2)\n",
    "        \n",
    "        output = torch.cat(\n",
    "            [conv(conv_in).max(dim=2)[0] for conv in self._convs], \n",
    "            dim=1\n",
    "        )\n",
    "        output = F.dropout(output, self.dropout, training=self.training)\n",
    "        output = self.FC(output)\n",
    "        \n",
    "        return output.view(-1, self.n_outputs) # batch_size X n_output"
   ]
  },
  {
   "cell_type": "code",
   "execution_count": 27,
   "metadata": {
    "collapsed": true
   },
   "outputs": [],
   "source": [
    "def train(model, train_loader, test_loader, epochs, seq_length, num_chars, classes, lr=0.001):\n",
    "    train_on_gpu = torch.cuda.is_available()\n",
    "    criterion = nn.CrossEntropyLoss()\n",
    "    optimizer = optim.Adam(model.parameters(), lr=lr)\n",
    "\n",
    "    num_classes = len(classes)\n",
    "    all_losses = [100.0]\n",
    "    all_train_acc = [1.0 / num_classes]\n",
    "    all_test_acc = [1.0 / num_classes]\n",
    "\n",
    "    all_losses = []\n",
    "    all_train_acc = []\n",
    "    all_test_acc = []\n",
    "\n",
    "\n",
    "    for epoch in range(epochs):  # loop over the dataset multiple times\n",
    "        train_running_loss = 0.0\n",
    "        train_acc = 0.0\n",
    "        model.train()\n",
    "\n",
    "        # TRAINING ROUND\n",
    "        for i, data in enumerate(train_loader):\n",
    "             # zero the parameter gradients\n",
    "            optimizer.zero_grad()\n",
    "\n",
    "            # get the inputs\n",
    "            inputs, labels = data\n",
    "            if(train_on_gpu): inputs, labels = inputs.cuda(), labels.cuda()\n",
    "            #inputs = inputs.view(-1, seq_length, num_chars) \n",
    "\n",
    "            # forward + backward + optimize\n",
    "            outputs = model(inputs)\n",
    "\n",
    "            loss = criterion(outputs, labels.long())\n",
    "            loss.backward()\n",
    "            optimizer.step()\n",
    "\n",
    "            train_running_loss += loss.detach().item()\n",
    "            train_acc += get_accuracy(outputs, labels, batch_size)\n",
    "\n",
    "        model.eval()\n",
    "        epoch_loss = min(100, 100 * train_running_loss / i)\n",
    "        all_losses.append(epoch_loss)\n",
    "        epoch_train_acc = train_acc / i\n",
    "        all_train_acc.append(epoch_train_acc)\n",
    "\n",
    "        test_acc = 0.0\n",
    "        for i, data in enumerate(test_loader, 0):\n",
    "            inputs, labels = data\n",
    "            if(train_on_gpu): inputs, labels = inputs.cuda(), labels.cuda()\n",
    "            #inputs = inputs.view(-1, seq_length, num_chars) \n",
    "            outputs = model(inputs)\n",
    "            test_acc += get_accuracy(outputs, labels, batch_size)\n",
    "        epoch_test_acc = test_acc / i\n",
    "        all_test_acc.append(epoch_test_acc)\n",
    "        print(\n",
    "            'Epoch:  %2d | Loss: %03.2f | Train Accuracy: %.2f | Test Accuracy: %.2f' %\n",
    "            (epoch + 1, epoch_loss, epoch_train_acc, epoch_test_acc)\n",
    "        )\n",
    "    # Plot loss and accuracies:\n",
    "    plt.figure()\n",
    "    plt.plot([l for l in all_losses])\n",
    "    plt.plot(all_test_acc)\n",
    "    plt.plot(all_train_acc)\n",
    "    plt.legend(['Average loss per epoch','Test Accuracy','Train Accuracy']);\n",
    "\n"
   ]
  },
  {
   "cell_type": "code",
   "execution_count": 30,
   "metadata": {},
   "outputs": [
    {
     "name": "stdout",
     "output_type": "stream",
     "text": [
      "NameClassifierConv(\n",
      "  (_convs): ModuleList(\n",
      "    (0): Conv1d(57, 256, kernel_size=(1,), stride=(1,))\n",
      "    (1): Conv1d(57, 256, kernel_size=(2,), stride=(1,))\n",
      "    (2): Conv1d(57, 256, kernel_size=(3,), stride=(1,))\n",
      "  )\n",
      "  (FC): Linear(in_features=768, out_features=18, bias=True)\n",
      ")\n"
     ]
    }
   ],
   "source": [
    "seq_length = dataset.seq_length\n",
    "num_chars = dataset.vocabulary_size\n",
    "classes = dataset.classes\n",
    "num_classes = dataset.num_classes\n",
    "dropout = 0.82\n",
    "\n",
    "classifier = NameClassifierConv(\n",
    "    in_channels=num_chars, \n",
    "    out_channels=256, \n",
    "    n_outputs=num_classes,\n",
    "    dropout=dropout\n",
    ")\n",
    "if(torch.cuda.is_available()): classifier.cuda()\n",
    "\n",
    "\n",
    "print(classifier)"
   ]
  },
  {
   "cell_type": "code",
   "execution_count": 31,
   "metadata": {},
   "outputs": [
    {
     "name": "stdout",
     "output_type": "stream",
     "text": [
      "Epoch:   1 | Loss: 100.00 | Train Accuracy: 59.13 | Test Accuracy: 67.90\n",
      "Epoch:   2 | Loss: 100.00 | Train Accuracy: 69.67 | Test Accuracy: 73.82\n",
      "Epoch:   3 | Loss: 90.60 | Train Accuracy: 73.00 | Test Accuracy: 77.08\n",
      "Epoch:   4 | Loss: 81.97 | Train Accuracy: 75.16 | Test Accuracy: 78.42\n",
      "Epoch:   5 | Loss: 78.28 | Train Accuracy: 76.18 | Test Accuracy: 80.43\n",
      "Epoch:   6 | Loss: 75.05 | Train Accuracy: 76.91 | Test Accuracy: 80.75\n",
      "Epoch:   7 | Loss: 73.05 | Train Accuracy: 77.35 | Test Accuracy: 81.18\n",
      "Epoch:   8 | Loss: 71.77 | Train Accuracy: 77.92 | Test Accuracy: 80.93\n",
      "Epoch:   9 | Loss: 69.31 | Train Accuracy: 78.24 | Test Accuracy: 81.28\n",
      "Epoch:  10 | Loss: 68.03 | Train Accuracy: 78.76 | Test Accuracy: 81.58\n",
      "Epoch:  11 | Loss: 67.21 | Train Accuracy: 78.90 | Test Accuracy: 81.44\n",
      "Epoch:  12 | Loss: 66.07 | Train Accuracy: 79.21 | Test Accuracy: 82.18\n",
      "Epoch:  13 | Loss: 65.73 | Train Accuracy: 79.60 | Test Accuracy: 82.06\n",
      "Epoch:  14 | Loss: 65.35 | Train Accuracy: 79.44 | Test Accuracy: 82.40\n",
      "Epoch:  15 | Loss: 64.67 | Train Accuracy: 79.56 | Test Accuracy: 82.05\n",
      "CPU times: user 42.3 s, sys: 1.25 s, total: 43.5 s\n",
      "Wall time: 43.4 s\n"
     ]
    },
    {
     "data": {
      "image/png": "[encoded data removed]",
      "text/plain": [
       "<Figure size 432x288 with 1 Axes>"
      ]
     },
     "metadata": {
      "needs_background": "light"
     },
     "output_type": "display_data"
    }
   ],
   "source": [
    "%%time\n",
    "epochs=15\n",
    "train(classifier, train_loader, test_loader, epochs, seq_length, num_chars, classes, lr=0.001)"
   ]
  },
  {
   "cell_type": "code",
   "execution_count": null,
   "metadata": {
    "collapsed": true
   },
   "outputs": [],
   "source": [
    "show_confusion(classifier, train_loader, seq_length, num_chars, classes)"
   ]
  },
  {
   "cell_type": "code",
   "execution_count": null,
   "metadata": {
    "collapsed": true
   },
   "outputs": [],
   "source": [
    "show_confusion(classifier, test_loader, seq_length, num_chars, classes)"
   ]
  },
  {
   "cell_type": "code",
   "execution_count": null,
   "metadata": {
    "collapsed": true
   },
   "outputs": [],
   "source": []
  }
 ],
 "metadata": {
  "kernelspec": {
   "display_name": "allennlp",
   "language": "python",
   "name": "allennlp"
  },
  "language_info": {
   "codemirror_mode": {
    "name": "ipython",
    "version": 3
   },
   "file_extension": ".py",
   "mimetype": "text/x-python",
   "name": "python",
   "nbconvert_exporter": "python",
   "pygments_lexer": "ipython3",
   "version": "3.6.1"
  }
 },
 "nbformat": 4,
 "nbformat_minor": 2
}
