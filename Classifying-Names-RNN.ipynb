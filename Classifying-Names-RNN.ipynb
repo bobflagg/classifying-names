{
 "cells": [
  {
   "cell_type": "markdown",
   "metadata": {},
   "source": [
    "- [CLASSIFYING NAMES WITH A CHARACTER-LEVEL RNN](https://pytorch.org/tutorials/intermediate/char_rnn_classification_tutorial.html?highlight=lstm)"
   ]
  },
  {
   "cell_type": "markdown",
   "metadata": {},
   "source": [
    "## Preparing the Data"
   ]
  },
  {
   "cell_type": "code",
   "execution_count": 1,
   "metadata": {
    "collapsed": true
   },
   "outputs": [],
   "source": [
    "%matplotlib inline\n",
    "\n",
    "import matplotlib.pyplot as plt\n",
    "import matplotlib.ticker as ticker\n",
    "import numpy as np\n",
    "import os\n",
    "from random import shuffle\n",
    "from sklearn.model_selection import train_test_split\n",
    "import string\n",
    "import torch\n",
    "import torch.nn as nn\n",
    "import torch.nn.functional as F\n",
    "import torch.optim as optim\n",
    "from torch.utils.data import TensorDataset, DataLoader\n",
    "import unicodedata"
   ]
  },
  {
   "cell_type": "markdown",
   "metadata": {},
   "source": [
    "### Loading the data"
   ]
  },
  {
   "cell_type": "code",
   "execution_count": 2,
   "metadata": {
    "collapsed": true
   },
   "outputs": [],
   "source": [
    "DIRECTORY = './data/names/'\n",
    "ALL_LETTERS = string.ascii_letters + \" .,;'\""
   ]
  },
  {
   "cell_type": "code",
   "execution_count": 3,
   "metadata": {},
   "outputs": [
    {
     "name": "stdout",
     "output_type": "stream",
     "text": [
      " 1.       Arabic: 2000\n",
      " 2.      Chinese:  268\n",
      " 3.        Czech:  519\n",
      " 4.        Dutch:  297\n",
      " 5.      English: 3668\n",
      " 6.       French:  277\n",
      " 7.       German:  724\n",
      " 8.        Greek:  203\n",
      " 9.        Irish:  232\n",
      "10.      Italian:  709\n",
      "11.     Japanese:  991\n",
      "12.       Korean:   94\n",
      "13.       Polish:  139\n",
      "14.   Portuguese:   74\n",
      "15.      Russian: 9408\n",
      "16.     Scottish:  100\n",
      "17.      Spanish:  298\n",
      "18.   Vietnamese:   73\n",
      "Abandonato, Abatangelo, Abatantuono, Abate, Abategiovanni\n"
     ]
    }
   ],
   "source": [
    "# Build the category_lines dictionary, a list of names per language\n",
    "category_lines = {}\n",
    "all_categories = []\n",
    "\n",
    "# Turn a Unicode string to plain ASCII, thanks to http://stackoverflow.com/a/518232/2809427\n",
    "def unicodeToAscii(s):\n",
    "    return ''.join(\n",
    "        c for c in unicodedata.normalize('NFD', s)\n",
    "        if unicodedata.category(c) != 'Mn'\n",
    "        and c in ALL_LETTERS\n",
    "    )\n",
    "\n",
    "# Read a file and split into lines\n",
    "def readLines(filename):\n",
    "    lines = open(filename, encoding='utf-8').read().strip().split('\\n')\n",
    "    return [unicodeToAscii(line) for line in lines]\n",
    "\n",
    "for fname in os.listdir(DIRECTORY): \n",
    "    path = os.path.join(DIRECTORY, fname)\n",
    "    category = os.path.splitext(os.path.basename(fname))[0]\n",
    "    all_categories.append(category)\n",
    "    lines = readLines(path)\n",
    "    category_lines[category] = lines\n",
    "\n",
    "n_categories = len(all_categories)\n",
    "for i, category in enumerate(all_categories):\n",
    "    print(\"%2d. %12s: %4d\" % (i + 1, category, len(category_lines[category])))\n",
    "print(\", \".join(category_lines['Italian'][:5]))"
   ]
  },
  {
   "cell_type": "code",
   "execution_count": 4,
   "metadata": {},
   "outputs": [
    {
     "name": "stdout",
     "output_type": "stream",
     "text": [
      "      Arabic: # train: 1800, # test: 200\n",
      "     Chinese: # train:  241, # test: 27\n",
      "       Czech: # train:  467, # test: 52\n",
      "       Dutch: # train:  267, # test: 30\n",
      "     English: # train: 3301, # test: 367\n",
      "      French: # train:  249, # test: 28\n",
      "      German: # train:  651, # test: 73\n",
      "       Greek: # train:  182, # test: 21\n",
      "       Irish: # train:  208, # test: 24\n",
      "     Italian: # train:  638, # test: 71\n",
      "    Japanese: # train:  891, # test: 100\n",
      "      Korean: # train:   84, # test: 10\n",
      "      Polish: # train:  125, # test: 14\n",
      "  Portuguese: # train:   66, # test: 8\n",
      "     Russian: # train: 8467, # test: 941\n",
      "    Scottish: # train:   90, # test: 10\n",
      "     Spanish: # train:  268, # test: 30\n",
      "  Vietnamese: # train:   65, # test: 8\n",
      "All: # train: 18060 / 18060, # test: 2014 / 2014\n",
      "['Mustafa', 'Kalb', 'Kalb', 'Attia', 'Saliba', 'Basara', 'Atiyeh', 'Atiyeh'] \n",
      " ['Arabic', 'Arabic', 'Arabic', 'Arabic', 'Arabic', 'Arabic', 'Arabic', 'Arabic']\n",
      "('Coiro', 'To The First Page', 'Zelenevsky', 'Ghanem', 'Lutkovsky', 'Najjar', 'Nahas', 'Dubatkov') \n",
      " ('Italian', 'Russian', 'Russian', 'Arabic', 'Russian', 'Arabic', 'Arabic', 'Russian')\n",
      "-----\n",
      "['Sarraf', 'Najjar', 'Masih', 'Sarkis', 'Gerges', 'Daher', 'Boulos', 'Sarkis'] \n",
      " ['Arabic', 'Arabic', 'Arabic', 'Arabic', 'Arabic', 'Arabic', 'Arabic', 'Arabic']\n",
      "('Bazikov', 'Khoury', 'Amari', 'Hojo', 'Sarna', 'Hramchenkov', 'Son', 'Haddad') \n",
      " ('Russian', 'Arabic', 'Arabic', 'Japanese', 'Czech', 'Russian', 'Korean', 'Arabic')\n"
     ]
    }
   ],
   "source": [
    "X_train = []\n",
    "y_train = []\n",
    "\n",
    "X_test = []\n",
    "y_test = []\n",
    "\n",
    "for i, category in enumerate(all_categories):\n",
    "    names_train, names_test = train_test_split(\n",
    "        category_lines[category], \n",
    "        test_size=0.10, \n",
    "        random_state=42\n",
    "    )\n",
    "    X_train.extend(names_train)\n",
    "    y_train.extend([category] * len(names_train))\n",
    "\n",
    "    X_test.extend(names_test)\n",
    "    y_test.extend([category] * len(names_test))\n",
    "\n",
    "    print(\"%12s: # train: %4d, # test: %d\" % (category, len(names_train), len(names_test)))\n",
    "\n",
    "\n",
    "print(\"All: # train: %4d / %4d, # test: %4d / %4d\" % (len(X_train), len(y_train), len(X_test), len(y_test)))\n",
    "\n",
    "n = 8\n",
    "print(X_train[:n], \"\\n\", y_train[:n])\n",
    "Z = list(zip(X_train, y_train))\n",
    "shuffle(Z)\n",
    "X_train, y_train = zip(*Z)\n",
    "print(X_train[:n], \"\\n\", y_train[:n])\n",
    "print('-----')\n",
    "print(X_test[:n], \"\\n\", y_test[:n])\n",
    "Z = list(zip(X_test, y_test))\n",
    "shuffle(Z)\n",
    "X_test, y_test = zip(*Z)\n",
    "print(X_test[:n], \"\\n\", y_test[:n])"
   ]
  },
  {
   "cell_type": "markdown",
   "metadata": {},
   "source": [
    "### Encoding the names"
   ]
  },
  {
   "cell_type": "code",
   "execution_count": 5,
   "metadata": {},
   "outputs": [
    {
     "name": "stdout",
     "output_type": "stream",
     "text": [
      "# train names encoded: 18060\n",
      "              Coiro -->> Italian\n",
      "  To The First Page -->> Russian\n",
      "         Zelenevsky -->> Russian\n",
      "             Ghanem -->> Arabic\n",
      "          Lutkovsky -->> Russian\n",
      "             Najjar -->> Arabic\n",
      "              Nahas -->> Arabic\n",
      "           Dubatkov -->> Russian\n",
      "           Deforest -->> French\n",
      "              Bader -->> Russian\n",
      "# test names encoded: 2014\n",
      "            Bazikov -->> Russian\n",
      "             Khoury -->> Arabic\n",
      "              Amari -->> Arabic\n",
      "               Hojo -->> Japanese\n",
      "              Sarna -->> Czech\n",
      "        Hramchenkov -->> Russian\n",
      "                Son -->> Korean\n",
      "             Haddad -->> Arabic\n",
      "           Badyagin -->> Russian\n",
      "             Kalaev -->> Russian\n"
     ]
    }
   ],
   "source": [
    "# we create two dictionaries:\n",
    "# 1. int2char, which maps integers to characters\n",
    "# 2. char2int, which maps characters to unique integers\n",
    "chars = ALL_LETTERS\n",
    "num_chars = len(chars)\n",
    "#char2int = {ch:ii for ii, ch in enumerate(chars, 1)}\n",
    "\n",
    "char2int = {ch:ii for ii, ch in enumerate(chars)}\n",
    "int2char = {ii:ch for ch, ii in char2int.items()}\n",
    "\n",
    "def encode_names(some_names):\n",
    "    some_names_encoded = []\n",
    "    for name in some_names: some_names_encoded.append([char2int[c] for c in name])\n",
    "    return some_names_encoded\n",
    "    \n",
    "def decode_name(name): \n",
    "    return \"\".join(int2char[i] for i in name)    \n",
    "\n",
    "def decode_names(some_names): \n",
    "    return [decode_name(name) for name in some_names]\n",
    "\n",
    "X_train_encoded = encode_names(X_train)\n",
    "print(\"# train names encoded:\", len(X_train_encoded))\n",
    "\n",
    "n = 10\n",
    "X_train_decoded = decode_names(X_train_encoded[:n])\n",
    "for i in range(n):\n",
    "    print(\"%19s -->> %s\" % (X_train_decoded[i], y_train[i]))\n",
    "    \n",
    "X_test_encoded = encode_names(X_test)\n",
    "print(\"# test names encoded:\", len(X_test_encoded))\n",
    "\n",
    "n = 10\n",
    "X_test_decoded = decode_names(X_test_encoded[:n])\n",
    "for i in range(n):\n",
    "    print(\"%19s -->> %s\" % (X_test_decoded[i], y_test[i]))"
   ]
  },
  {
   "cell_type": "markdown",
   "metadata": {},
   "source": [
    "### Embedding names"
   ]
  },
  {
   "cell_type": "code",
   "execution_count": 6,
   "metadata": {
    "scrolled": true
   },
   "outputs": [
    {
     "name": "stdout",
     "output_type": "stream",
     "text": [
      "seq-length: 19 num_chars: 57\n",
      "X_train_embedded: torch.Size([18060, 19, 57]) ; torch.float32\n",
      "              Coiro -->> Italian\n",
      "  To The First Page -->> Russian\n",
      "         Zelenevsky -->> Russian\n",
      "             Ghanem -->> Arabic\n",
      "          Lutkovsky -->> Russian\n",
      "             Najjar -->> Arabic\n",
      "              Nahas -->> Arabic\n",
      "           Dubatkov -->> Russian\n",
      "           Deforest -->> French\n",
      "              Bader -->> Russian\n",
      "X_test_embedded: torch.Size([2014, 19, 57]) ; torch.float32\n",
      "            Bazikov -->> Russian\n",
      "             Khoury -->> Arabic\n",
      "              Amari -->> Arabic\n",
      "               Hojo -->> Japanese\n",
      "              Sarna -->> Czech\n",
      "        Hramchenkov -->> Russian\n",
      "                Son -->> Korean\n",
      "             Haddad -->> Arabic\n",
      "           Badyagin -->> Russian\n",
      "             Kalaev -->> Russian\n"
     ]
    }
   ],
   "source": [
    "seq_length = np.max([len(name) for name in X_train + X_test])\n",
    "print(\"seq-length: %d\" % seq_length, \"num_chars:\", num_chars)\n",
    "\n",
    "def embed_names(some_names):\n",
    "    some_names_encoded = encode_names(some_names)\n",
    "    some_names_embedded = np.zeros((len(some_names), seq_length, num_chars), dtype=np.float32)\n",
    "    index = 0\n",
    "    for name in some_names_encoded:\n",
    "        position = seq_length - len(name)\n",
    "        for char in name: \n",
    "            some_names_embedded[index, position, char] = 1\n",
    "            position += 1\n",
    "        index += 1\n",
    "    return torch.from_numpy(some_names_embedded) \n",
    "\n",
    "def embed2name(values, indices):\n",
    "    return decode_name([int(indices[i]) for i in range(seq_length) if values[i] == 1])\n",
    "    \n",
    "def embed2names(names):\n",
    "    batch_size = names.shape[0]\n",
    "    values, indices = torch.topk(names, 1)\n",
    "    values = values.squeeze()\n",
    "    indices = indices.squeeze()\n",
    "    return [\n",
    "        embed2name(values[i], indices[i]) for i in range(batch_size)\n",
    "    ]\n",
    "\n",
    "\n",
    "X_train_embedded = embed_names(X_train)\n",
    "print(\"X_train_embedded:\", X_train_embedded.shape, \";\", X_train_embedded.dtype)\n",
    "\n",
    "n = 10\n",
    "some_names = embed2names(X_train_embedded[:n])\n",
    "for i in range(n):\n",
    "    print(\"%19s -->> %s\" % (some_names[i], y_train[i]))\n",
    "    \n",
    "X_test_embedded = embed_names(X_test)\n",
    "print(\"X_test_embedded:\", X_test_embedded.shape, \";\", X_test_embedded.dtype)\n",
    "\n",
    "n = 10\n",
    "some_names = embed2names(X_test_embedded[:n])\n",
    "for i in range(n):\n",
    "    print(\"%19s -->> %s\" % (some_names[i], y_test[i]))"
   ]
  },
  {
   "cell_type": "markdown",
   "metadata": {},
   "source": [
    "### Encoding labels"
   ]
  },
  {
   "cell_type": "code",
   "execution_count": 7,
   "metadata": {},
   "outputs": [
    {
     "name": "stdout",
     "output_type": "stream",
     "text": [
      "encoded train labels: torch.Size([18060]) ; torch.float32\n",
      "              Coiro -->> Italian\n",
      "  To The First Page -->> Russian\n",
      "         Zelenevsky -->> Russian\n",
      "             Ghanem -->> Arabic\n",
      "          Lutkovsky -->> Russian\n",
      "             Najjar -->> Arabic\n",
      "              Nahas -->> Arabic\n",
      "           Dubatkov -->> Russian\n",
      "           Deforest -->> French\n",
      "              Bader -->> Russian\n",
      "encoded test labels: torch.Size([2014]) ; torch.float32\n",
      "            Bazikov -->> Russian\n",
      "             Khoury -->> Arabic\n",
      "              Amari -->> Arabic\n",
      "               Hojo -->> Japanese\n",
      "              Sarna -->> Czech\n",
      "        Hramchenkov -->> Russian\n",
      "                Son -->> Korean\n",
      "             Haddad -->> Arabic\n",
      "           Badyagin -->> Russian\n",
      "             Kalaev -->> Russian\n"
     ]
    }
   ],
   "source": [
    "distinct_labels = list(set(y_train + y_test))\n",
    "distinct_labels.sort()\n",
    "num_classes = len(distinct_labels)\n",
    "label2int = {l:i for i, l in enumerate(distinct_labels)}\n",
    "int2label = {i:l for i, l in enumerate(distinct_labels)}\n",
    "\n",
    "def encode_labels(some_labels): \n",
    "    encoded_labels = np.array([label2int[label] for label in some_labels], dtype=np.float32)\n",
    "    return torch.from_numpy(encoded_labels)\n",
    "\n",
    "def codes2labels(some_labels): \n",
    "    return [int2label[int(i)] for i in some_labels]\n",
    "\n",
    "y_train_encoded = encode_labels(y_train)\n",
    "print(\"encoded train labels:\", y_train_encoded.shape, \";\", y_train_encoded.dtype)\n",
    "n = 10\n",
    "some_names = embed2names(X_train_embedded[:n])\n",
    "same_labels = codes2labels(y_train_encoded[:n])\n",
    "for i in range(n):\n",
    "    print(\"%19s -->> %s\" % (some_names[i], same_labels[i]))\n",
    "\n",
    "\n",
    "y_test_encoded = encode_labels(y_test)\n",
    "print(\"encoded test labels:\", y_test_encoded.shape, \";\", y_test_encoded.dtype)\n",
    "n = 10\n",
    "some_names = embed2names(X_test_embedded[:n])\n",
    "same_labels = codes2labels(y_test_encoded[:n])\n",
    "for i in range(n):\n",
    "    print(\"%19s -->> %s\" % (some_names[i], same_labels[i]))"
   ]
  },
  {
   "cell_type": "code",
   "execution_count": 8,
   "metadata": {
    "collapsed": true
   },
   "outputs": [],
   "source": [
    "# parameters \n",
    "N_STEPS = seq_length\n",
    "N_INPUTS = num_chars\n",
    "N_NEURONS = 150\n",
    "N_OUTPUTS = num_classes\n",
    "N_EPHOCS = 10"
   ]
  },
  {
   "cell_type": "code",
   "execution_count": 9,
   "metadata": {
    "collapsed": true
   },
   "outputs": [],
   "source": [
    "class NameClassifierRNN(nn.Module):\n",
    "    def __init__(self, batch_size, n_steps, n_inputs, n_neurons, n_outputs):\n",
    "        super(NameClassifierRNN, self).__init__()\n",
    "        \n",
    "        self.n_neurons = n_neurons\n",
    "        self.batch_size = batch_size\n",
    "        self.n_steps = n_steps\n",
    "        self.n_inputs = n_inputs\n",
    "        self.n_outputs = n_outputs\n",
    "        \n",
    "        self.basic_rnn = nn.RNN(self.n_inputs, self.n_neurons) \n",
    "        self.FC = nn.Linear(self.n_neurons, self.n_outputs)\n",
    "        \n",
    "    def init_hidden(self,):\n",
    "        # (num_layers, batch_size, n_neurons)\n",
    "        hidden = (torch.zeros(1, self.batch_size, self.n_neurons))\n",
    "        if (train_on_gpu): hidden = hidden.cuda()\n",
    "        return hidden     \n",
    "    \n",
    "    def forward(self, X):\n",
    "        # transforms X to dimensions: seq-len x batch-size x num-chars\n",
    "        X = X.permute(1, 0, 2) \n",
    "        \n",
    "        self.batch_size = X.size(1)\n",
    "        self.hidden = self.init_hidden()\n",
    "        \n",
    "        lstm_out, self.hidden = self.basic_rnn(X, self.hidden)      \n",
    "        out = self.FC(self.hidden)\n",
    "        \n",
    "        return out.view(-1, self.n_outputs) # batch_size X n_output"
   ]
  },
  {
   "cell_type": "code",
   "execution_count": 10,
   "metadata": {
    "collapsed": true
   },
   "outputs": [],
   "source": [
    "BATCH_SIZE = 16\n",
    "\n",
    "trainset = TensorDataset(X_train_embedded, y_train_encoded)\n",
    "train_loader = DataLoader(trainset, shuffle=True, batch_size=BATCH_SIZE)\n",
    "\n",
    "testset = TensorDataset(X_test_embedded, y_test_encoded)\n",
    "test_loader = DataLoader(testset, shuffle=True, batch_size=BATCH_SIZE)"
   ]
  },
  {
   "cell_type": "code",
   "execution_count": 11,
   "metadata": {},
   "outputs": [
    {
     "name": "stdout",
     "output_type": "stream",
     "text": [
      "No GPU available, using CPU.\n"
     ]
    }
   ],
   "source": [
    "train_on_gpu=torch.cuda.is_available()\n",
    "\n",
    "if(train_on_gpu): print('Using GPU.')\n",
    "else: print('No GPU available, using CPU.')"
   ]
  },
  {
   "cell_type": "code",
   "execution_count": 12,
   "metadata": {
    "collapsed": true
   },
   "outputs": [],
   "source": [
    "def get_accuracy(logit, target, batch_size):\n",
    "    ''' Obtain accuracy for training round '''\n",
    "    corrects = (torch.max(logit, 1)[1].view(target.size()).data == target.long().data).sum()\n",
    "    accuracy = 100.0 * corrects/batch_size\n",
    "    return accuracy.item()\n",
    "\n",
    "def train(model, epochs, lr=0.001):\n",
    "    criterion = nn.CrossEntropyLoss()\n",
    "    optimizer = optim.Adam(model.parameters(), lr=lr)\n",
    "\n",
    "    all_losses = [100.0]\n",
    "    all_train_acc = [1.0 / num_classes]\n",
    "    all_test_acc = [1.0 / num_classes]\n",
    "\n",
    "    for epoch in range(epochs):  # loop over the dataset multiple times\n",
    "        train_running_loss = 0.0\n",
    "        train_acc = 0.0\n",
    "        model.train()\n",
    "\n",
    "        # TRAINING ROUND\n",
    "        for i, data in enumerate(train_loader):\n",
    "             # zero the parameter gradients\n",
    "            optimizer.zero_grad()\n",
    "\n",
    "            # reset hidden states\n",
    "            model.hidden = model.init_hidden() \n",
    "\n",
    "            # get the inputs\n",
    "            inputs, labels = data\n",
    "            if(train_on_gpu): inputs, labels = inputs.cuda(), labels.cuda()\n",
    "            inputs = inputs.view(-1, seq_length, num_chars) \n",
    "\n",
    "            # forward + backward + optimize\n",
    "            outputs = model(inputs)\n",
    "\n",
    "            loss = criterion(outputs, labels.long())\n",
    "            loss.backward()\n",
    "            optimizer.step()\n",
    "\n",
    "            train_running_loss += loss.detach().item()\n",
    "            train_acc += get_accuracy(outputs, labels, BATCH_SIZE)\n",
    "\n",
    "        model.eval()\n",
    "        epoch_loss = min(100, 100 * train_running_loss / i)\n",
    "        all_losses.append(epoch_loss)\n",
    "        epoch_train_acc = train_acc / i\n",
    "        all_train_acc.append(epoch_train_acc)\n",
    "\n",
    "        test_acc = 0.0\n",
    "        for i, data in enumerate(test_loader, 0):\n",
    "            inputs, labels = data\n",
    "            if(train_on_gpu): inputs, labels = inputs.cuda(), labels.cuda()\n",
    "            inputs = inputs.view(-1, seq_length, num_chars) \n",
    "            outputs = model(inputs)\n",
    "            test_acc += get_accuracy(outputs, labels, BATCH_SIZE)\n",
    "        epoch_test_acc = test_acc / i\n",
    "        all_test_acc.append(epoch_test_acc)\n",
    "        print(\n",
    "            'Epoch:  %2d | Loss: %03.2f | Train Accuracy: %.2f | Test Accuracy: %.2f' %\n",
    "            (epoch + 1, epoch_loss, epoch_train_acc, epoch_test_acc)\n",
    "        )\n",
    "    # Plot loss and accuracies:\n",
    "    plt.figure()\n",
    "    plt.plot([l for l in all_losses])\n",
    "    plt.plot(all_test_acc)\n",
    "    plt.plot(all_train_acc)\n",
    "    plt.legend(['Average loss per epoch','Test Accuracy','Train Accuracy']);\n",
    "\n",
    "    # Visualize classification results:\n",
    "    confusion = torch.zeros(num_classes, num_classes)\n",
    "    for i, data in enumerate(test_loader, 0):\n",
    "        inputs, labels = data\n",
    "        if(train_on_gpu): inputs, labels = inputs.cuda(), labels.cuda()\n",
    "        inputs = inputs.view(-1, seq_length, num_chars) \n",
    "        logit = model(inputs)\n",
    "        result = torch.max(logit, 1)[1].view(labels.size()).data\n",
    "        for index in range(labels.size()[0]):\n",
    "            i = int(labels[index])\n",
    "            j = int(result[index])\n",
    "            confusion[i][j] += 1\n",
    "    # Normalize by dividing every row by its sum\n",
    "    for i in range(n_categories): confusion[i] = confusion[i] / confusion[i].sum()\n",
    "    # Set up plot\n",
    "    fig = plt.figure(figsize=(10,10))\n",
    "    ax = fig.add_subplot(111)\n",
    "    cax = ax.matshow(confusion.numpy())\n",
    "    fig.colorbar(cax)\n",
    "\n",
    "    # Set up axes\n",
    "    ax.set_xticklabels([''] + distinct_labels, rotation=90)\n",
    "    ax.set_yticklabels([''] + distinct_labels)\n",
    "\n",
    "    # Force label at every tick\n",
    "    ax.xaxis.set_major_locator(ticker.MultipleLocator(1))\n",
    "    ax.yaxis.set_major_locator(ticker.MultipleLocator(1))\n",
    "\n"
   ]
  },
  {
   "cell_type": "code",
   "execution_count": 13,
   "metadata": {},
   "outputs": [
    {
     "name": "stdout",
     "output_type": "stream",
     "text": [
      "Epoch:   1 | Loss: 100.00 | Train Accuracy: 60.97 | Test Accuracy: 70.61\n",
      "Epoch:   2 | Loss: 94.26 | Train Accuracy: 71.94 | Test Accuracy: 73.41\n",
      "Epoch:   3 | Loss: 85.51 | Train Accuracy: 73.84 | Test Accuracy: 75.43\n",
      "Epoch:   4 | Loss: 78.63 | Train Accuracy: 75.87 | Test Accuracy: 74.14\n",
      "Epoch:   5 | Loss: 74.62 | Train Accuracy: 76.71 | Test Accuracy: 76.80\n",
      "Epoch:   6 | Loss: 70.44 | Train Accuracy: 77.83 | Test Accuracy: 77.47\n",
      "Epoch:   7 | Loss: 66.85 | Train Accuracy: 78.93 | Test Accuracy: 76.40\n",
      "Epoch:   8 | Loss: 63.73 | Train Accuracy: 79.82 | Test Accuracy: 78.07\n",
      "Epoch:   9 | Loss: 60.42 | Train Accuracy: 80.59 | Test Accuracy: 79.51\n",
      "Epoch:  10 | Loss: 57.40 | Train Accuracy: 81.65 | Test Accuracy: 79.52\n",
      "Epoch:  11 | Loss: 55.14 | Train Accuracy: 82.21 | Test Accuracy: 77.90\n",
      "Epoch:  12 | Loss: 52.83 | Train Accuracy: 82.83 | Test Accuracy: 79.59\n",
      "Epoch:  13 | Loss: 51.77 | Train Accuracy: 83.32 | Test Accuracy: 79.89\n",
      "Epoch:  14 | Loss: 48.70 | Train Accuracy: 84.11 | Test Accuracy: 79.98\n",
      "Epoch:  15 | Loss: 47.02 | Train Accuracy: 84.38 | Test Accuracy: 80.14\n",
      "Epoch:  16 | Loss: 44.99 | Train Accuracy: 85.01 | Test Accuracy: 80.82\n",
      "Epoch:  17 | Loss: 42.97 | Train Accuracy: 85.59 | Test Accuracy: 79.85\n",
      "Epoch:  18 | Loss: 41.58 | Train Accuracy: 86.25 | Test Accuracy: 79.94\n",
      "Epoch:  19 | Loss: 39.74 | Train Accuracy: 86.76 | Test Accuracy: 80.34\n",
      "Epoch:  20 | Loss: 38.95 | Train Accuracy: 86.90 | Test Accuracy: 80.58\n",
      "CPU times: user 17min 36s, sys: 1min 2s, total: 18min 38s\n",
      "Wall time: 2min 48s\n"
     ]
    },
    {
     "data": {
      "image/png": "[encoded data removed]",
      "text/plain": [
       "<matplotlib.figure.Figure at 0x2321f4b4a8>"
      ]
     },
     "metadata": {},
     "output_type": "display_data"
    },
    {
     "data": {
      "image/png": "[encoded data removed]",
      "text/plain": [
       "<matplotlib.figure.Figure at 0x23222b0eb8>"
      ]
     },
     "metadata": {},
     "output_type": "display_data"
    }
   ],
   "source": [
    "%%time\n",
    "rnn_model = NameClassifierRNN(BATCH_SIZE, N_STEPS, N_INPUTS, N_NEURONS, N_OUTPUTS)\n",
    "if(train_on_gpu): rnn_model.cuda()\n",
    "train(rnn_model, epochs=20, lr=0.001)"
   ]
  },
  {
   "cell_type": "code",
   "execution_count": 14,
   "metadata": {
    "collapsed": true
   },
   "outputs": [],
   "source": [
    "class NameClassifierLSTM(nn.Module):\n",
    "    def __init__(\n",
    "        self, \n",
    "        batch_size, \n",
    "        n_steps, \n",
    "        n_inputs, \n",
    "        n_outputs, \n",
    "        n_neurons, \n",
    "        n_layers=1,\n",
    "        drop_prob=1.0\n",
    "    ):\n",
    "        super(NameClassifierLSTM, self).__init__()\n",
    "        self.n_neurons = n_neurons\n",
    "        self.batch_size = batch_size\n",
    "        self.n_steps = n_steps\n",
    "        self.n_inputs = n_inputs\n",
    "        self.n_outputs = n_outputs\n",
    "        self.n_neurons = n_neurons\n",
    "        self.n_layers = n_layers\n",
    "        self.lstm = nn.LSTM(n_inputs, n_neurons, n_layers, dropout=drop_prob)\n",
    "        self.FC = nn.Linear(self.n_neurons, self.n_outputs)\n",
    "        self.dropout = nn.Dropout(drop_prob)\n",
    "        \n",
    "    def init_hidden(self):\n",
    "        ''' Initializes hidden state '''\n",
    "        # Create two new tensors with sizes n_layers x batch_size x n_neurons,\n",
    "        # initialized to zero, for hidden state and cell state of LSTM\n",
    "        weight = next(self.parameters()).data\n",
    "        \n",
    "        if (train_on_gpu):\n",
    "            hidden = (\n",
    "                weight.new(self.n_layers, self.batch_size, self.n_neurons).zero_().cuda(),\n",
    "                weight.new(self.n_layers, self.batch_size, self.n_neurons).zero_().cuda()\n",
    "            )\n",
    "        else:\n",
    "            hidden = (\n",
    "                weight.new(self.n_layers, self.batch_size, self.n_neurons).zero_(),\n",
    "                weight.new(self.n_layers, self.batch_size, self.n_neurons).zero_()\n",
    "            )\n",
    "        \n",
    "        return hidden\n",
    "\n",
    "    def forward(self, X):\n",
    "        # transforms X to dimensions: seq-len x batch-size x num-chars\n",
    "        X = X.permute(1, 0, 2) \n",
    "        \n",
    "        self.batch_size = X.size(1)\n",
    "        self.hidden = self.init_hidden()\n",
    "                \n",
    "        lstm_out, self.hidden = self.lstm(X, self.hidden)      \n",
    "        _, out = self.hidden\n",
    "        out = self.dropout(out[-1])\n",
    "        out = self.FC(out)\n",
    "        \n",
    "        return out.view(-1, self.n_outputs) # batch_size X n_output"
   ]
  },
  {
   "cell_type": "code",
   "execution_count": 15,
   "metadata": {
    "scrolled": false
   },
   "outputs": [
    {
     "name": "stdout",
     "output_type": "stream",
     "text": [
      "Epoch:   1 | Loss: 100.00 | Train Accuracy: 58.02 | Test Accuracy: 64.74\n",
      "Epoch:   2 | Loss: 100.00 | Train Accuracy: 68.36 | Test Accuracy: 71.02\n",
      "Epoch:   3 | Loss: 94.16 | Train Accuracy: 72.11 | Test Accuracy: 74.60\n",
      "Epoch:   4 | Loss: 85.18 | Train Accuracy: 74.52 | Test Accuracy: 77.10\n",
      "Epoch:   5 | Loss: 79.29 | Train Accuracy: 76.32 | Test Accuracy: 78.27\n",
      "Epoch:   6 | Loss: 73.79 | Train Accuracy: 77.95 | Test Accuracy: 79.27\n",
      "Epoch:   7 | Loss: 69.89 | Train Accuracy: 78.60 | Test Accuracy: 79.99\n",
      "Epoch:   8 | Loss: 66.97 | Train Accuracy: 79.54 | Test Accuracy: 80.34\n",
      "Epoch:   9 | Loss: 63.00 | Train Accuracy: 80.18 | Test Accuracy: 81.06\n",
      "Epoch:  10 | Loss: 60.91 | Train Accuracy: 81.07 | Test Accuracy: 82.06\n",
      "Epoch:  11 | Loss: 59.05 | Train Accuracy: 81.69 | Test Accuracy: 81.52\n",
      "Epoch:  12 | Loss: 55.96 | Train Accuracy: 82.59 | Test Accuracy: 82.62\n",
      "Epoch:  13 | Loss: 54.54 | Train Accuracy: 82.64 | Test Accuracy: 82.04\n",
      "Epoch:  14 | Loss: 53.04 | Train Accuracy: 83.37 | Test Accuracy: 82.76\n",
      "Epoch:  15 | Loss: 51.20 | Train Accuracy: 83.87 | Test Accuracy: 82.87\n",
      "Epoch:  16 | Loss: 50.25 | Train Accuracy: 84.11 | Test Accuracy: 82.43\n",
      "Epoch:  17 | Loss: 47.86 | Train Accuracy: 84.76 | Test Accuracy: 83.05\n",
      "Epoch:  18 | Loss: 47.43 | Train Accuracy: 85.08 | Test Accuracy: 82.97\n",
      "Epoch:  19 | Loss: 44.90 | Train Accuracy: 85.36 | Test Accuracy: 83.42\n",
      "Epoch:  20 | Loss: 43.92 | Train Accuracy: 85.92 | Test Accuracy: 83.78\n",
      "Epoch:  21 | Loss: 42.56 | Train Accuracy: 86.44 | Test Accuracy: 83.67\n",
      "Epoch:  22 | Loss: 41.23 | Train Accuracy: 86.61 | Test Accuracy: 83.29\n",
      "Epoch:  23 | Loss: 39.95 | Train Accuracy: 87.10 | Test Accuracy: 83.74\n",
      "Epoch:  24 | Loss: 38.76 | Train Accuracy: 87.48 | Test Accuracy: 83.45\n",
      "CPU times: user 1h 53min 41s, sys: 8min 22s, total: 2h 2min 3s\n",
      "Wall time: 18min 52s\n"
     ]
    },
    {
     "data": {
      "image/png": "[encoded data removed]",
      "text/plain": [
       "<matplotlib.figure.Figure at 0x2321d64048>"
      ]
     },
     "metadata": {},
     "output_type": "display_data"
    },
    {
     "data": {
      "image/png": "[encoded data removed]",
      "text/plain": [
       "<matplotlib.figure.Figure at 0x2322355b38>"
      ]
     },
     "metadata": {},
     "output_type": "display_data"
    }
   ],
   "source": [
    "%%time\n",
    "model = NameClassifierLSTM(\n",
    "    BATCH_SIZE, \n",
    "    N_STEPS, \n",
    "    N_INPUTS, \n",
    "    N_OUTPUTS, \n",
    "    N_NEURONS, \n",
    "    n_layers=2, \n",
    "    drop_prob=0.65\n",
    ")\n",
    "if(train_on_gpu): model.cuda()\n",
    "train(model, epochs=24, lr=0.001)"
   ]
  },
  {
   "cell_type": "code",
   "execution_count": 25,
   "metadata": {},
   "outputs": [
    {
     "name": "stdout",
     "output_type": "stream",
     "text": [
      "Epoch:   1 | Loss: 34.15 | Train Accuracy: 88.92 | Test Accuracy: 83.71\n",
      "Epoch:   2 | Loss: 32.66 | Train Accuracy: 89.16 | Test Accuracy: 83.46\n",
      "Epoch:   3 | Loss: 32.83 | Train Accuracy: 89.28 | Test Accuracy: 82.78\n",
      "Epoch:   4 | Loss: 31.84 | Train Accuracy: 89.53 | Test Accuracy: 83.37\n",
      "Epoch:   5 | Loss: 30.64 | Train Accuracy: 89.92 | Test Accuracy: 83.21\n",
      "Epoch:   6 | Loss: 29.58 | Train Accuracy: 90.34 | Test Accuracy: 82.80\n",
      "Epoch:   7 | Loss: 29.40 | Train Accuracy: 90.23 | Test Accuracy: 82.67\n",
      "Epoch:   8 | Loss: 29.57 | Train Accuracy: 90.10 | Test Accuracy: 82.93\n"
     ]
    },
    {
     "data": {
      "image/png": "[encoded data removed]",
      "text/plain": [
       "<Figure size 432x288 with 1 Axes>"
      ]
     },
     "metadata": {
      "needs_background": "light"
     },
     "output_type": "display_data"
    },
    {
     "data": {
      "image/png": "[encoded data removed]",
      "text/plain": [
       "<Figure size 720x720 with 2 Axes>"
      ]
     },
     "metadata": {
      "needs_background": "light"
     },
     "output_type": "display_data"
    }
   ],
   "source": [
    "train(model, epochs=8, lr=0.001)"
   ]
  },
  {
   "cell_type": "code",
   "execution_count": null,
   "metadata": {
    "collapsed": true
   },
   "outputs": [],
   "source": [
    "class ConvSentEncoder(nn.Module):\n",
    "    \"\"\"\n",
    "    Convolutional word-level sentence encoder\n",
    "    w/ max-over-time pooling, [3, 4, 5] kernel sizes, ReLU activation\n",
    "    \"\"\"\n",
    "    def __init__(self, vocab_size, emb_dim, n_hidden, dropout):\n",
    "        super().__init__()\n",
    "        self._embedding = nn.Embedding(vocab_size, emb_dim, padding_idx=0)\n",
    "        self._convs = nn.ModuleList([nn.Conv1d(emb_dim, n_hidden, i)\n",
    "                                     for i in range(3, 6)])\n",
    "        self._dropout = dropout\n",
    "        self._grad_handle = None\n",
    "\n",
    "    def forward(self, input_):\n",
    "        emb_input = self._embedding(input_)\n",
    "        conv_in = F.dropout(emb_input.transpose(1, 2),\n",
    "                            self._dropout, training=self.training)\n",
    "        output = torch.cat([F.relu(conv(conv_in)).max(dim=2)[0]\n",
    "                            for conv in self._convs], dim=1)\n",
    "        return output\n",
    "\n",
    "    def set_embedding(self, embedding):\n",
    "        \"\"\"embedding is the weight matrix\"\"\"\n",
    "        assert self._embedding.weight.size() == embedding.size()\n",
    "        self._embedding.weight.data.copy_(embedding)\n"
   ]
  },
  {
   "cell_type": "code",
   "execution_count": null,
   "metadata": {
    "collapsed": true
   },
   "outputs": [],
   "source": [
    "%%time\n",
    "\n",
    "all_losses = []\n",
    "all_train_acc = []\n",
    "all_test_acc = []\n",
    "\n",
    "\n",
    "for epoch in range(24):  # loop over the dataset multiple times\n",
    "    train_running_loss = 0.0\n",
    "    train_acc = 0.0\n",
    "    model.train()\n",
    "    \n",
    "    # TRAINING ROUND\n",
    "    for i, data in enumerate(train_loader):\n",
    "         # zero the parameter gradients\n",
    "        optimizer.zero_grad()\n",
    "        \n",
    "        # reset hidden states\n",
    "        model.hidden = model.init_hidden() \n",
    "        \n",
    "        # get the inputs\n",
    "        inputs, labels = data\n",
    "        if(train_on_gpu): inputs, labels = inputs.cuda(), labels.cuda()\n",
    "        inputs = inputs.view(-1, seq_length, num_chars) \n",
    "\n",
    "        # forward + backward + optimize\n",
    "        outputs = model(inputs)\n",
    "\n",
    "        loss = criterion(outputs, labels.long())\n",
    "        loss.backward()\n",
    "        optimizer.step()\n",
    "\n",
    "        train_running_loss += loss.detach().item()\n",
    "        train_acc += get_accuracy(outputs, labels, BATCH_SIZE)\n",
    "         \n",
    "    model.eval()\n",
    "    epoch_loss = 100 * train_running_loss / i\n",
    "    all_losses.append(epoch_loss)\n",
    "    epoch_train_acc = train_acc / i\n",
    "    all_train_acc.append(epoch_train_acc)\n",
    "    \n",
    "    test_acc = 0.0\n",
    "    for i, data in enumerate(test_loader, 0):\n",
    "        inputs, labels = data\n",
    "        if(train_on_gpu): inputs, labels = inputs.cuda(), labels.cuda()\n",
    "        inputs = inputs.view(-1, seq_length, num_chars) \n",
    "        outputs = model(inputs)\n",
    "        test_acc += get_accuracy(outputs, labels, BATCH_SIZE)\n",
    "    epoch_test_acc = test_acc / i\n",
    "    all_test_acc.append(epoch_test_acc)\n",
    "    print(\n",
    "        'Epoch:  %2d | Loss: %3.2f | Train Accuracy: %.2f | Test Accuracy: %.2f' %\n",
    "        (epoch + 1, epoch_loss, epoch_train_acc, epoch_test_acc)\n",
    "    )\n"
   ]
  },
  {
   "cell_type": "code",
   "execution_count": null,
   "metadata": {
    "collapsed": true
   },
   "outputs": [],
   "source": [
    "\n",
    "plt.figure()\n",
    "plt.plot([l for l in all_losses[1:]])\n",
    "plt.plot(all_test_acc)\n",
    "plt.plot(all_train_acc)\n",
    "plt.legend(['Average loss per epoch','Test Accuracy','Train Accuracy']);"
   ]
  },
  {
   "cell_type": "code",
   "execution_count": null,
   "metadata": {
    "collapsed": true,
    "scrolled": false
   },
   "outputs": [],
   "source": [
    "confusion = torch.zeros(num_classes, num_classes)\n",
    "\n",
    "for i, data in enumerate(test_loader, 0):\n",
    "    inputs, labels = data\n",
    "    if(train_on_gpu): inputs, labels = inputs.cuda(), labels.cuda()\n",
    "    inputs = inputs.view(-1, seq_length, num_chars) \n",
    "    logit = model(inputs)\n",
    "    result = torch.max(logit, 1)[1].view(labels.size()).data\n",
    "    for index in range(labels.size()[0]):\n",
    "        i = int(labels[index])\n",
    "        j = int(result[index])\n",
    "        confusion[i][j] += 1\n",
    "# Normalize by dividing every row by its sum\n",
    "for i in range(n_categories):\n",
    "    confusion[i] = confusion[i] / confusion[i].sum()\n",
    "# Set up plot\n",
    "fig = plt.figure(figsize=(10,10))\n",
    "ax = fig.add_subplot(111)\n",
    "cax = ax.matshow(confusion.numpy())\n",
    "fig.colorbar(cax)\n",
    "\n",
    "# Set up axes\n",
    "ax.set_xticklabels([''] + distinct_labels, rotation=90)\n",
    "ax.set_yticklabels([''] + distinct_labels)\n",
    "\n",
    "# Force label at every tick\n",
    "ax.xaxis.set_major_locator(ticker.MultipleLocator(1))\n",
    "ax.yaxis.set_major_locator(ticker.MultipleLocator(1))\n",
    "\n"
   ]
  },
  {
   "cell_type": "code",
   "execution_count": null,
   "metadata": {
    "collapsed": true
   },
   "outputs": [],
   "source": [
    "train(model, epochs=6)"
   ]
  },
  {
   "cell_type": "markdown",
   "metadata": {},
   "source": [
    "## Old Stuff"
   ]
  },
  {
   "cell_type": "code",
   "execution_count": null,
   "metadata": {
    "collapsed": true
   },
   "outputs": [],
   "source": [
    "data = []\n",
    "for key, values in category_lines.items():\n",
    "    for name in values: data.append((name, key))\n",
    "shuffle(data)\n",
    "names = [name for name, key in data]\n",
    "labels = [key for name, key in data]\n",
    "print(\"# names:\", len(names))\n",
    "print(\"# labels:\", len(labels))\n",
    "n = 10\n",
    "for i in range(n):\n",
    "    print(\"%19s -->> %s\" % (names[i], labels[i]))"
   ]
  },
  {
   "cell_type": "code",
   "execution_count": null,
   "metadata": {
    "collapsed": true
   },
   "outputs": [],
   "source": [
    "confusion = torch.zeros(num_classes, num_classes)\n",
    "\n",
    "for i, data in enumerate(test_loader, 0):\n",
    "    inputs, labels = data\n",
    "    if(train_on_gpu): inputs, labels = inputs.cuda(), labels.cuda()\n",
    "    inputs = inputs.view(-1, seq_length, num_chars) \n",
    "    outputs = model(inputs)\n",
    "    test_acc += get_accuracy(outputs, labels, BATCH_SIZE)\n",
    "\n",
    "def get_accuracy(logit, target, batch_size):\n",
    "    ''' Obtain accuracy for training round '''\n",
    "    corrects = (torch.max(logit, 1)[1].view(target.size()).data == target.long().data).sum()\n",
    "    accuracy = 100.0 * corrects/batch_size\n",
    "    return accuracy.item()\n",
    "\n",
    "n_confusion = 10000\n",
    "\n",
    "# Just return an output given a line\n",
    "def evaluate(line_tensor):\n",
    "    hidden = rnn.initHidden()\n",
    "\n",
    "    for i in range(line_tensor.size()[0]):\n",
    "        output, hidden = rnn(line_tensor[i], hidden)\n",
    "\n",
    "    return output\n",
    "\n",
    "# Go through a bunch of examples and record which are correctly guessed\n",
    "for i in range(n_confusion):\n",
    "    category, line, category_tensor, line_tensor = randomTrainingExample()\n",
    "    output = evaluate(line_tensor)\n",
    "    guess, guess_i = categoryFromOutput(output)\n",
    "    category_i = all_categories.index(category)\n",
    "    confusion[category_i][guess_i] += 1\n",
    "\n",
    "# Normalize by dividing every row by its sum\n",
    "for i in range(n_categories):\n",
    "    confusion[i] = confusion[i] / confusion[i].sum()\n",
    "# Set up plot\n",
    "fig = plt.figure(figsize=(10,10))\n",
    "ax = fig.add_subplot(111)\n",
    "cax = ax.matshow(confusion.numpy())\n",
    "fig.colorbar(cax)\n",
    "\n",
    "# Set up axes\n",
    "ax.set_xticklabels([''] + all_categories, rotation=90)\n",
    "ax.set_yticklabels([''] + all_categories)\n",
    "\n",
    "# Force label at every tick\n",
    "ax.xaxis.set_major_locator(ticker.MultipleLocator(1))\n",
    "ax.yaxis.set_major_locator(ticker.MultipleLocator(1))\n",
    "\n",
    "\n"
   ]
  },
  {
   "cell_type": "code",
   "execution_count": null,
   "metadata": {
    "collapsed": true
   },
   "outputs": [],
   "source": [
    "\n",
    "def embed2name(values, indices):\n",
    "    return decode_name([int(indices[i]) for i in range(seq_length) if values[i] == 1])\n",
    "    \n",
    "def embed2names(names):\n",
    "    \n",
    "    batch_size = names.shape[0]\n",
    "    values, indices = torch.topk(names, 1)\n",
    "    if values.shape[-1] != 1:\n",
    "        values = values.squeeze()\n",
    "        indices = indices.squeeze()\n",
    "    return [\n",
    "        embed2name(values[i], indices[i]) for i in range(batch_size)\n",
    "    ]"
   ]
  },
  {
   "cell_type": "code",
   "execution_count": null,
   "metadata": {
    "collapsed": true
   },
   "outputs": [],
   "source": [
    "for i, data in enumerate(test_loader, 0):\n",
    "    inputs, labels = data\n",
    "    break\n",
    "print(\"inputs:\", inputs.shape)\n",
    "print(\"labels:\", labels.size())"
   ]
  },
  {
   "cell_type": "code",
   "execution_count": null,
   "metadata": {
    "collapsed": true
   },
   "outputs": [],
   "source": [
    "    corrects = (torch.max(logit, 1)[1].view(target.size()).data == target.long().data).sum()\n",
    "\n"
   ]
  },
  {
   "cell_type": "code",
   "execution_count": null,
   "metadata": {
    "collapsed": true
   },
   "outputs": [],
   "source": [
    "def predict(name):\n",
    "    inputs = embed_names([name])\n",
    "    print(inputs.shape, name, \"||\", embed2names(inputs)[0])\n",
    "    model.eval()\n",
    "\n",
    "    inputs, labels = data\n",
    "    if(train_on_gpu): inputs = inputs.cuda()\n",
    "    inputs = inputs.view(-1, seq_length, num_chars) \n",
    "    logit = model(inputs)\n",
    "    xx = torch.max(logit, 1)[1].view(1).data\n",
    "    print(xx.shape)\n",
    "    print(xx)\n",
    "\n",
    "        \n",
    "    values, indices = torch.topk(output, 1)\n",
    "    category = codes2labels(indices.cpu().data.numpy())[0]\n",
    "    return category\n",
    "    \n",
    "for name in ['Dovesky', 'Jackson', 'Satoshi']:\n",
    "    print(name, '-->>', predict(name))\n",
    "\n"
   ]
  },
  {
   "cell_type": "code",
   "execution_count": null,
   "metadata": {
    "collapsed": true
   },
   "outputs": [],
   "source": [
    "\n",
    "for epoch in range(N_EPHOCS):  # loop over the dataset multiple times\n",
    "    train_running_loss = 0.0\n",
    "    train_acc = 0.0\n",
    "    model.train()\n",
    "    \n",
    "    # TRAINING ROUND\n",
    "    for i, data in enumerate(train_loader):\n",
    "         # zero the parameter gradients\n",
    "        optimizer.zero_grad()\n",
    "        \n",
    "        # reset hidden states\n",
    "        model.hidden = model.init_hidden() \n",
    "        \n",
    "        # get the inputs\n",
    "        inputs, labels = data\n",
    "        inputs = inputs.view(-1, seq_length, num_chars) \n",
    "\n",
    "        # forward + backward + optimize\n",
    "        outputs = model(inputs)\n",
    "\n",
    "        loss = criterion(outputs, labels.long())\n",
    "        loss.backward()\n",
    "        optimizer.step()\n",
    "\n",
    "        train_running_loss += loss.detach().item()\n",
    "        train_acc += get_accuracy(outputs, labels, BATCH_SIZE)\n",
    "         \n",
    "    model.eval()\n",
    "    print('Epoch:  %d | Loss: %.4f | Train Accuracy: %.2f' \n",
    "          %(epoch, train_running_loss / i, train_acc/i))\n",
    "\n"
   ]
  },
  {
   "cell_type": "code",
   "execution_count": null,
   "metadata": {
    "collapsed": true
   },
   "outputs": [],
   "source": [
    "test_acc = 0.0\n",
    "for i, data in enumerate(test_loader, 0):\n",
    "    inputs, labels = data\n",
    "    inputs = inputs.view(-1, seq_length, num_chars) \n",
    "\n",
    "    outputs = model(inputs)\n",
    "\n",
    "    test_acc += get_accuracy(outputs, labels, BATCH_SIZE)\n",
    "        \n",
    "print('Test Accuracy: %.2f'%( test_acc/i))"
   ]
  },
  {
   "cell_type": "markdown",
   "metadata": {},
   "source": [
    "## Building the network"
   ]
  },
  {
   "cell_type": "code",
   "execution_count": null,
   "metadata": {
    "collapsed": true
   },
   "outputs": [],
   "source": [
    "# First checking if GPU is available\n",
    "train_on_gpu=torch.cuda.is_available()\n",
    "\n",
    "if(train_on_gpu): print('Using GPU.')\n",
    "else: print('No GPU available, using CPU.')"
   ]
  },
  {
   "cell_type": "code",
   "execution_count": null,
   "metadata": {
    "collapsed": true
   },
   "outputs": [],
   "source": [
    "import torch.nn as nn\n",
    "\n",
    "class LSTMClassifier(nn.Module):\n",
    "    \"\"\"\n",
    "    The RNN model that will be used to classify names by nationality.\n",
    "    \"\"\"\n",
    "\n",
    "    def __init__(\n",
    "        self, \n",
    "        vocab_size, \n",
    "        output_size, \n",
    "        hidden_dim, \n",
    "        n_layers, \n",
    "        drop_prob=1.0\n",
    "    ):\n",
    "        \"\"\"\n",
    "        Initialize the model by setting up the layers.\n",
    "        \"\"\"\n",
    "        super(LSTMClassifier, self).__init__()\n",
    "\n",
    "        self.output_size = output_size\n",
    "        self.n_layers = n_layers\n",
    "        self.hidden_dim = hidden_dim\n",
    "        \n",
    "        # embedding and LSTM layers\n",
    "        self.lstm = nn.LSTM(\n",
    "            vocab_size, \n",
    "            hidden_dim, \n",
    "            n_layers, \n",
    "            dropout=drop_prob, \n",
    "            batch_first=True\n",
    "        )\n",
    "        \n",
    "        # dropout layer\n",
    "        #self.dropout = nn.Dropout(0.3)\n",
    "        \n",
    "        # linear and sigmoid layers\n",
    "        self.fc = nn.Linear(hidden_dim, output_size)\n",
    "        #self.softmax = nn.LogSoftmax()\n",
    "        \n",
    "\n",
    "    def forward(self, x, hidden):\n",
    "        \"\"\"\n",
    "        Perform a forward pass of our model on some input and hidden state.\n",
    "        \"\"\"\n",
    "        batch_size = x.size(0)\n",
    "\n",
    "        # embeddings and lstm_out\n",
    "        lstm_out, hidden = self.lstm(x, hidden)\n",
    "    \n",
    "        # stack up lstm outputs\n",
    "        out = lstm_out.contiguous().view(-1, self.hidden_dim)\n",
    "        \n",
    "        # dropout and fully-connected layer\n",
    "        #out = self.dropout(lstm_out)\n",
    "        out = self.fc(out)\n",
    "        out = out.view(batch_size, seq_length, -1)\n",
    "        out = out[:, -1]\n",
    "        # softmax function\n",
    "        #softmax_out = self.softmax(out)\n",
    "        \n",
    "        # reshape to be batch_size first\n",
    "        #softmax_out = softmax_out.view(batch_size, -1)\n",
    "        #softmax_out = softmax_out[:, -1] # get last batch of labels\n",
    "        \n",
    "        # return last sigmoid output and hidden state\n",
    "        return out, hidden\n",
    "    \n",
    "    \n",
    "    def init_hidden(self, batch_size):\n",
    "        ''' Initializes hidden state '''\n",
    "        # Create two new tensors with sizes n_layers x batch_size x hidden_dim,\n",
    "        # initialized to zero, for hidden state and cell state of LSTM\n",
    "        weight = next(self.parameters()).data\n",
    "        if (train_on_gpu):\n",
    "            hidden = (\n",
    "                weight.new(self.n_layers, batch_size, self.hidden_dim).zero_().cuda(),\n",
    "                weight.new(self.n_layers, batch_size, self.hidden_dim).zero_().cuda()\n",
    "            )\n",
    "        else:\n",
    "            hidden = (\n",
    "                weight.new(self.n_layers, batch_size, self.hidden_dim).zero_(),\n",
    "                weight.new(self.n_layers, batch_size, self.hidden_dim).zero_()\n",
    "            )\n",
    "        return hidden\n",
    "        #return tuple([each.long() for each in h])\n",
    "\n"
   ]
  },
  {
   "cell_type": "markdown",
   "metadata": {},
   "source": [
    "## Instantiate the network"
   ]
  },
  {
   "cell_type": "code",
   "execution_count": null,
   "metadata": {
    "collapsed": true
   },
   "outputs": [],
   "source": [
    "# Instantiate the model w/ hyperparams\n",
    "vocab_size = num_chars\n",
    "output_size = num_classes\n",
    "hidden_dim = 256\n",
    "n_layers = 1\n",
    "\n",
    "net = LSTMClassifier(vocab_size, output_size, hidden_dim, n_layers)\n",
    "\n",
    "print(net)"
   ]
  },
  {
   "cell_type": "markdown",
   "metadata": {},
   "source": [
    "## Training"
   ]
  },
  {
   "cell_type": "code",
   "execution_count": null,
   "metadata": {
    "collapsed": true
   },
   "outputs": [],
   "source": [
    "lr=0.001\n",
    "#criterion = nn.CrossEntropyLoss()\n",
    "criterion = nn.NLLLoss()\n",
    "optimizer = torch.optim.Adam(net.parameters(), lr=lr)"
   ]
  },
  {
   "cell_type": "code",
   "execution_count": null,
   "metadata": {
    "collapsed": true
   },
   "outputs": [],
   "source": [
    "import torch\n",
    "from torch.utils.data import TensorDataset, DataLoader\n",
    "\n",
    "data = TensorDataset(embedded_names, encoded_labels)\n",
    "batch_size = 16\n",
    "loader = DataLoader(data, shuffle=True, batch_size=batch_size)"
   ]
  },
  {
   "cell_type": "code",
   "execution_count": null,
   "metadata": {
    "collapsed": true
   },
   "outputs": [],
   "source": [
    "# training params\n",
    "\n",
    "epochs = 10 # 3-4 is approx where I noticed the validation loss stop decreasing\n",
    "\n",
    "counter = 0\n",
    "print_every = 1000\n",
    "clip=5 # gradient clipping\n",
    "\n",
    "# move model to GPU, if available\n",
    "if(train_on_gpu): net.cuda()\n",
    "\n",
    "# train for some number of epochs\n",
    "for e in range(epochs):\n",
    "    net.train()\n",
    "    # initialize hidden state\n",
    "    h = net.init_hidden(batch_size)\n",
    "\n",
    "    # batch loop\n",
    "    for inputs, labels in loader:\n",
    "        this_batch_size = int(inputs.shape[0])\n",
    "        if this_batch_size != batch_size: continue\n",
    "        counter += 1\n",
    "\n",
    "        if(train_on_gpu): inputs, labels = inputs.cuda(), labels.cuda()\n",
    "        \n",
    "        #print(\"%d. inputs:\" % e, inputs.size(), inputs.shape)\n",
    "        #print(\"labels:\", labels.size(), labels.shape)\n",
    "\n",
    "        # Creating new variables for the hidden state, otherwise\n",
    "        # we'd backprop through the entire training history\n",
    "        h = tuple([each.data[:this_batch_size] for each in h])\n",
    "\n",
    "        # zero accumulated gradients\n",
    "        net.zero_grad()\n",
    "\n",
    "        # get the output from the model\n",
    "        output, h = net(inputs, h)\n",
    "\n",
    "        # calculate the loss and perform backprop\n",
    "        #loss = criterion(output.squeeze(), labels.float())\n",
    "        #print(\"output:\", output.size(), output.shape)\n",
    "        #print(\"h:\", len(h), h[0].shape)\n",
    "        loss = criterion(output, labels.long())\n",
    "\n",
    "        loss.backward()\n",
    "        # `clip_grad_norm` helps prevent the exploding gradient problem in RNNs / LSTMs.\n",
    "        nn.utils.clip_grad_norm_(net.parameters(), clip)\n",
    "        optimizer.step()\n",
    "    # Get validation loss after each epoch\n",
    "    val_h = net.init_hidden(batch_size)\n",
    "    val_losses = []\n",
    "    net.eval()\n",
    "    for inputs, labels in loader:\n",
    "        this_batch_size = int(inputs.shape[0])\n",
    "        if this_batch_size != batch_size: continue\n",
    "\n",
    "        # Creating new variables for the hidden state, otherwise\n",
    "        # we'd backprop through the entire training history\n",
    "        val_h = tuple([each.data[:this_batch_size] for each in val_h])\n",
    "\n",
    "        if(train_on_gpu): inputs, labels = inputs.cuda(), labels.cuda()\n",
    "\n",
    "        output, val_h = net(inputs, val_h)\n",
    "        val_loss = criterion(output, labels.long())\n",
    "\n",
    "        val_losses.append(val_loss.item())\n",
    "\n",
    "    print(\"Epoch: {}/{}...\".format(e+1, epochs),\n",
    "          \"Step: {}...\".format(counter),\n",
    "          \"Loss: {:.6f}...\".format(loss.item()),\n",
    "          \"Val Loss: {:.6f}\".format(np.mean(val_losses)))"
   ]
  },
  {
   "cell_type": "markdown",
   "metadata": {},
   "source": [
    "## Predict"
   ]
  },
  {
   "cell_type": "code",
   "execution_count": null,
   "metadata": {
    "collapsed": true,
    "scrolled": true
   },
   "outputs": [],
   "source": [
    "def predict(name):\n",
    "    inputs = embed_names([name])\n",
    "    print(inputs.shape, name, \"||\", embed2names(inputs)[0])\n",
    "    net.eval()\n",
    "    h = net.init_hidden(1)\n",
    "    h = tuple([each.data for each in h])\n",
    "    if(train_on_gpu): inputs = inputs.cuda()\n",
    "    output, h = net(inputs, h)\n",
    "    #output, h = net(inputs, h)\n",
    "    print(output.shape, output)\n",
    "    values, indices = torch.topk(output, 1)\n",
    "    category = codes2labels(indices.cpu().data.numpy())[0]\n",
    "    return category\n",
    "    \n",
    "for name in ['Dovesky', 'Jackson', 'Satoshi']:\n",
    "    print(name, '-->>', predict(name))\n",
    "\n"
   ]
  },
  {
   "cell_type": "code",
   "execution_count": null,
   "metadata": {
    "collapsed": true
   },
   "outputs": [],
   "source": [
    "\n",
    "def embed2name(values, indices):\n",
    "    return decode_name([int(indices[i]) for i in range(seq_length) if values[i] == 1])\n",
    "    \n",
    "def embed2names(names):\n",
    "    batch_size = names.shape[0]\n",
    "    values, indices = torch.topk(names, 1)\n",
    "    #values = values.squeeze()\n",
    "    #indices = indices.squeeze()\n",
    "    return [\n",
    "        embed2name(values[i].squeeze(), indices[i].squeeze()) for i in range(batch_size)\n",
    "    ]\n",
    "\n"
   ]
  },
  {
   "cell_type": "code",
   "execution_count": null,
   "metadata": {
    "collapsed": true
   },
   "outputs": [],
   "source": [
    "inputs = embed_names([name])\n",
    "print(\"inputs.shape:\", inputs.shape)\n",
    "batch_size = inputs.shape[0]\n",
    "print(\"batch_size:\", batch_size)\n",
    "values, indices = torch.topk(inputs, 1)\n",
    "print(\"values:\", values.shape)\n",
    "print(\"indices:\", indices.shape)\n",
    "#values[0].squeeze()\n",
    "\n",
    "#values = values.squeeze()\n",
    "#indices = indices.squeeze()\n",
    "embed2names(inputs)\n",
    "\n"
   ]
  },
  {
   "cell_type": "code",
   "execution_count": null,
   "metadata": {
    "collapsed": true
   },
   "outputs": [],
   "source": [
    "print(\", \".join([int2label[int(i)] for i in encoded_labels[:10]]))\n",
    "\n",
    "def decode_label(some_labels): return [int2label[int(i)] for i in codes]"
   ]
  },
  {
   "cell_type": "code",
   "execution_count": null,
   "metadata": {
    "collapsed": true
   },
   "outputs": [],
   "source": [
    "%%time\n",
    "\n",
    "seq_length = np.max([len(name) for name in names])\n",
    "print(\"seq-length: %d\" % seq_length, \"num_chars:\", num_chars)\n",
    "\n",
    "def embed_names(some_names):\n",
    "    some_names_encoded = encode_names(some_names)\n",
    "    some_names_embedded = np.zeros((len(some_names), seq_length, num_chars), dtype=np.long)\n",
    "    index = 0\n",
    "    for name in some_names_encoded:\n",
    "        position = seq_length - len(name)\n",
    "        for char in name: \n",
    "            #print(index, position, char2int[char])\n",
    "            one_hot_data_x[index, position, char2int[char]] = 1\n",
    "            position += 1\n",
    "        index += 1\n",
    "    return some_names_embedded\n",
    "\n",
    "\n",
    "one_hot_data_x = np.zeros((len(names), seq_length, num_chars), dtype=np.long)\n",
    "index = 0\n",
    "for name in names:\n",
    "    position = seq_length - len(name)\n",
    "    for char in name: \n",
    "        #print(index, position, char2int[char])\n",
    "        one_hot_data_x[index, position, char2int[char]] = 1\n",
    "        position += 1\n",
    "    index += 1\n",
    "print(\"one_hot_data_x:\", one_hot_data_x.shape)\n",
    "one_hot_data_x = torch.from_numpy(one_hot_data_x)\n",
    "print(\"one_hot_data_x:\", one_hot_data_x.shape)"
   ]
  },
  {
   "cell_type": "code",
   "execution_count": null,
   "metadata": {
    "collapsed": true
   },
   "outputs": [],
   "source": [
    "def debed_name(name, values, indices):\n",
    "    return decode_name([indices[i] for i in range(seq_length) if values[i] == 1])\n",
    "    \n",
    "def debed_names(names):\n",
    "    batch_size = names.shape[0]\n",
    "    values, indices = torch.topk(names, 1)\n",
    "    values = values.squeeze()\n",
    "    indices = indices.squeeze()\n",
    "    return [\n",
    "        indices(names[i], values[i], indices[i]) for i in range(batch_size)\n",
    "    ]\n",
    "\n",
    "n = 10\n",
    "decoded_names = decode_names(one_hot_data_x[:n])\n",
    "for i in range(n):\n",
    "    print(\"%19s -->> %s\" % (decoded_names[i], labels[i]))"
   ]
  },
  {
   "cell_type": "code",
   "execution_count": null,
   "metadata": {
    "collapsed": true
   },
   "outputs": [],
   "source": [
    "values, indices = torch.topk(one_hot_data_x[:10], 1)\n",
    "print(values.squeeze().shape)"
   ]
  },
  {
   "cell_type": "code",
   "execution_count": null,
   "metadata": {
    "collapsed": true
   },
   "outputs": [],
   "source": [
    "def one_hot_embedding(names, num_classes):\n",
    "    \"\"\"Embedding labels to one-hot form.\n",
    "\n",
    "    Args:\n",
    "      labels: (LongTensor) class labels, sized [N,].\n",
    "      num_classes: (int) number of classes.\n",
    "\n",
    "    Returns:\n",
    "      (tensor) encoded labels, sized [N, #classes].\n",
    "    \"\"\"\n",
    "    y = torch.eye(num_classes, dtype=torch.int) \n",
    "    return y[names] \n",
    "\n",
    "def one_hot_decode_name(one_hot): \n",
    "    return [int2char[int(i)] for i in torch.argmax(one_hot, dim=1)]\n",
    "\n",
    "one_hot_data_x = one_hot_embedding(names_ints, num_classes)\n",
    "print(one_hot_data_x.shape)\n",
    "print(data_y[:10,:])\n",
    "decode_label(data_y[:10,:])"
   ]
  },
  {
   "cell_type": "markdown",
   "metadata": {},
   "source": [
    "### Padding sequences"
   ]
  },
  {
   "cell_type": "code",
   "execution_count": null,
   "metadata": {
    "collapsed": true
   },
   "outputs": [],
   "source": [
    "def pad_features(names, seq_length):\n",
    "    ''' Return features of names_ints, where each name is padded with 0's \n",
    "        or truncated to the input seq_length.\n",
    "    '''\n",
    "    \n",
    "    # getting the correct rows x cols shape\n",
    "    features = np.zeros((len(names), seq_length), dtype=int)\n",
    "\n",
    "    # for each review, I grab that review and \n",
    "    for i, name in enumerate(names):\n",
    "        features[i, -len(name):] = np.array(name)[:seq_length]\n",
    "    \n",
    "    return features"
   ]
  },
  {
   "cell_type": "code",
   "execution_count": null,
   "metadata": {
    "collapsed": true
   },
   "outputs": [],
   "source": [
    "seq_length = np.max([len(name) for name in names])\n",
    "print(\"seq-length: %d\" % seq_length)\n",
    "\n",
    "def names2tensors(names):\n",
    "    names_ints = encode_names(names)\n",
    "    features = pad_features(names_ints, seq_length=seq_length)\n",
    "    return torch.from_numpy(features)\n",
    "\n",
    "data_x = names2tensors(names)\n",
    "\n",
    "# print first 10 values of the first 30 batches \n",
    "for row in data_x[:10,:]: print(row.numpy(), '-->>', decode_name(row))\n",
    "\n"
   ]
  },
  {
   "cell_type": "code",
   "execution_count": null,
   "metadata": {
    "collapsed": true
   },
   "outputs": [],
   "source": [
    "import torch\n",
    "from torch.utils.data import TensorDataset, DataLoader\n",
    "\n",
    "data = TensorDataset(data_x, data_y)\n",
    "batch_size = 16\n",
    "loader = DataLoader(data, shuffle=True, batch_size=batch_size)"
   ]
  },
  {
   "cell_type": "code",
   "execution_count": null,
   "metadata": {
    "collapsed": true
   },
   "outputs": [],
   "source": [
    "# obtain one batch of training data\n",
    "dataiter = iter(loader)\n",
    "sample_x, sample_y = dataiter.next()\n",
    "\n",
    "print('Sample input size: ', sample_x.size()) # batch_size, seq_length\n",
    "print('Sample input: \\n', sample_x)\n",
    "print()\n",
    "print('Sample label size: ', sample_y.size()) # batch_size\n",
    "print('Sample label: \\n', sample_y)"
   ]
  },
  {
   "cell_type": "code",
   "execution_count": null,
   "metadata": {
    "collapsed": true
   },
   "outputs": [],
   "source": [
    "for index in range(batch_size):\n",
    "    print(\"%19s -->> %s\" % (\n",
    "        decode_name(sample_x[index].numpy()), \n",
    "        decode_label(sample_y)[index]\n",
    "    ))"
   ]
  },
  {
   "cell_type": "markdown",
   "metadata": {},
   "source": [
    "## Building the network"
   ]
  },
  {
   "cell_type": "code",
   "execution_count": null,
   "metadata": {
    "collapsed": true
   },
   "outputs": [],
   "source": [
    "# First checking if GPU is available\n",
    "train_on_gpu=torch.cuda.is_available()\n",
    "\n",
    "if(train_on_gpu): print('Using GPU.')\n",
    "else: print('No GPU available, using CPU.')"
   ]
  },
  {
   "cell_type": "code",
   "execution_count": null,
   "metadata": {
    "collapsed": true
   },
   "outputs": [],
   "source": [
    "import torch.nn as nn\n",
    "\n",
    "class LSTMClassifier(nn.Module):\n",
    "    \"\"\"\n",
    "    The RNN model that will be used to classify names by nationality.\n",
    "    \"\"\"\n",
    "\n",
    "    def __init__(\n",
    "        self, \n",
    "        vocab_size, \n",
    "        output_size, \n",
    "        embedding_dim, \n",
    "        hidden_dim, \n",
    "        n_layers, \n",
    "        drop_prob=0.5\n",
    "    ):\n",
    "        \"\"\"\n",
    "        Initialize the model by setting up the layers.\n",
    "        \"\"\"\n",
    "        super(LSTMClassifier, self).__init__()\n",
    "\n",
    "        self.output_size = output_size\n",
    "        self.n_layers = n_layers\n",
    "        self.hidden_dim = hidden_dim\n",
    "        \n",
    "        # embedding and LSTM layers\n",
    "        self.embedding = nn.Embedding(vocab_size, embedding_dim)\n",
    "        self.lstm = nn.LSTM(\n",
    "            embedding_dim, \n",
    "            hidden_dim, \n",
    "            n_layers, \n",
    "            dropout=drop_prob, \n",
    "            batch_first=True\n",
    "        )\n",
    "        \n",
    "        # dropout layer\n",
    "        self.dropout = nn.Dropout(0.3)\n",
    "        \n",
    "        # linear and sigmoid layers\n",
    "        self.fc = nn.Linear(hidden_dim, output_size)\n",
    "        self.softmax = nn.LogSoftmax()\n",
    "        \n",
    "\n",
    "    def forward(self, x, hidden):\n",
    "        \"\"\"\n",
    "        Perform a forward pass of our model on some input and hidden state.\n",
    "        \"\"\"\n",
    "        batch_size = x.size(0)\n",
    "\n",
    "        # embeddings and lstm_out\n",
    "        embeds = self.embedding(x)\n",
    "        lstm_out, hidden = self.lstm(embeds, hidden)\n",
    "    \n",
    "        # stack up lstm outputs\n",
    "        lstm_out = lstm_out.contiguous().view(-1, self.hidden_dim)\n",
    "        \n",
    "        # dropout and fully-connected layer\n",
    "        out = self.dropout(lstm_out)\n",
    "        out = self.fc(out)\n",
    "        out = out.view(batch_size, seq_length, -1)\n",
    "        out = out[:, -1]\n",
    "        # softmax function\n",
    "        #softmax_out = self.softmax(out)\n",
    "        \n",
    "        # reshape to be batch_size first\n",
    "        #softmax_out = softmax_out.view(batch_size, -1)\n",
    "        #softmax_out = softmax_out[:, -1] # get last batch of labels\n",
    "        \n",
    "        # return last sigmoid output and hidden state\n",
    "        return out, hidden\n",
    "    \n",
    "    \n",
    "    def init_hidden(self, batch_size):\n",
    "        ''' Initializes hidden state '''\n",
    "        # Create two new tensors with sizes n_layers x batch_size x hidden_dim,\n",
    "        # initialized to zero, for hidden state and cell state of LSTM\n",
    "        weight = next(self.parameters()).data\n",
    "        if (train_on_gpu):\n",
    "            hidden = (\n",
    "                weight.new(self.n_layers, batch_size, self.hidden_dim).zero_().cuda(),\n",
    "                weight.new(self.n_layers, batch_size, self.hidden_dim).zero_().cuda()\n",
    "            )\n",
    "        else:\n",
    "            hidden = (\n",
    "                weight.new(self.n_layers, batch_size, self.hidden_dim).zero_(),\n",
    "                weight.new(self.n_layers, batch_size, self.hidden_dim).zero_()\n",
    "            )\n",
    "        return hidden"
   ]
  },
  {
   "cell_type": "markdown",
   "metadata": {},
   "source": [
    "## Instantiate the network"
   ]
  },
  {
   "cell_type": "code",
   "execution_count": null,
   "metadata": {
    "collapsed": true
   },
   "outputs": [],
   "source": [
    "# Instantiate the model w/ hyperparams\n",
    "vocab_size = len(char2int)+1 # +1 for the 0 padding + our word tokens\n",
    "output_size = num_classes\n",
    "embedding_dim = 10\n",
    "hidden_dim = 64\n",
    "n_layers = 1\n",
    "\n",
    "net = LSTMClassifier(vocab_size, output_size, embedding_dim, hidden_dim, n_layers)\n",
    "\n",
    "print(net)"
   ]
  },
  {
   "cell_type": "markdown",
   "metadata": {},
   "source": [
    "## Training"
   ]
  },
  {
   "cell_type": "code",
   "execution_count": null,
   "metadata": {
    "collapsed": true
   },
   "outputs": [],
   "source": [
    "lr=0.001\n",
    "#criterion = nn.CrossEntropyLoss()\n",
    "criterion = nn.NLLLoss()\n",
    "optimizer = torch.optim.Adam(net.parameters(), lr=lr)"
   ]
  },
  {
   "cell_type": "code",
   "execution_count": null,
   "metadata": {
    "collapsed": true
   },
   "outputs": [],
   "source": [
    "# training params\n",
    "\n",
    "epochs = 100 # 3-4 is approx where I noticed the validation loss stop decreasing\n",
    "\n",
    "counter = 0\n",
    "print_every = 100\n",
    "clip=5 # gradient clipping\n",
    "\n",
    "# move model to GPU, if available\n",
    "if(train_on_gpu): net.cuda()\n",
    "\n",
    "# train for some number of epochs\n",
    "for e in range(epochs):\n",
    "    net.train()\n",
    "    # initialize hidden state\n",
    "    h = net.init_hidden(batch_size)\n",
    "\n",
    "    # batch loop\n",
    "    for inputs, labels in loader:\n",
    "        this_batch_size = int(inputs.shape[0])\n",
    "        if this_batch_size != batch_size: continue\n",
    "        counter += 1\n",
    "\n",
    "        if(train_on_gpu): inputs, labels = inputs.cuda(), labels.cuda()\n",
    "        \n",
    "        #print(\"%d. inputs:\" % e, inputs.size(), inputs.shape)\n",
    "        #print(\"labels:\", labels.size(), labels.shape)\n",
    "\n",
    "        # Creating new variables for the hidden state, otherwise\n",
    "        # we'd backprop through the entire training history\n",
    "        h = tuple([each.data[:this_batch_size] for each in h])\n",
    "\n",
    "        # zero accumulated gradients\n",
    "        net.zero_grad()\n",
    "\n",
    "        # get the output from the model\n",
    "        output, h = net(inputs, h)\n",
    "\n",
    "        # calculate the loss and perform backprop\n",
    "        #loss = criterion(output.squeeze(), labels.float())\n",
    "        #print(\"output:\", output.size(), output.shape)\n",
    "        #print(\"h:\", len(h), h[0].shape)\n",
    "        loss = criterion(output, labels)\n",
    "\n",
    "        loss.backward()\n",
    "        # `clip_grad_norm` helps prevent the exploding gradient problem in RNNs / LSTMs.\n",
    "        nn.utils.clip_grad_norm_(net.parameters(), clip)\n",
    "        optimizer.step()\n",
    "    # Get validation loss after each epoch\n",
    "    val_h = net.init_hidden(batch_size)\n",
    "    val_losses = []\n",
    "    net.eval()\n",
    "    for inputs, labels in loader:\n",
    "        this_batch_size = int(inputs.shape[0])\n",
    "        if this_batch_size != batch_size: continue\n",
    "\n",
    "        # Creating new variables for the hidden state, otherwise\n",
    "        # we'd backprop through the entire training history\n",
    "        val_h = tuple([each.data[:this_batch_size] for each in val_h])\n",
    "\n",
    "        if(train_on_gpu): inputs, labels = inputs.cuda(), labels.cuda()\n",
    "\n",
    "        output, val_h = net(inputs, val_h)\n",
    "        val_loss = criterion(output, labels)\n",
    "\n",
    "        val_losses.append(val_loss.item())\n",
    "\n",
    "    print(\"Epoch: {}/{}...\".format(e+1, epochs),\n",
    "          \"Step: {}...\".format(counter),\n",
    "          \"Loss: {:.6f}...\".format(loss.item()),\n",
    "          \"Val Loss: {:.6f}\".format(np.mean(val_losses)))"
   ]
  },
  {
   "cell_type": "code",
   "execution_count": null,
   "metadata": {
    "collapsed": true
   },
   "outputs": [],
   "source": [
    "def predict(name):\n",
    "    inputs = names2tensors([name])\n",
    "    net.eval()\n",
    "    h = net.init_hidden(1)\n",
    "    h = tuple([each.data for each in h])\n",
    "    if(train_on_gpu): inputs = inputs.cuda()\n",
    "    output, h = net(inputs, h)\n",
    "    values, indices = torch.topk(output, 1)\n",
    "    value = indices.cpu().data.numpy()[0]\n",
    "    category = decode_label(value)\n",
    "    return category\n",
    "    \n",
    "for name in ['Dovesky', 'Jackson', 'Satoshi']:\n",
    "    print(name, '-->>', predict(name))\n",
    "\n",
    "    "
   ]
  },
  {
   "cell_type": "code",
   "execution_count": null,
   "metadata": {
    "collapsed": true
   },
   "outputs": [],
   "source": [
    "values, indices = torch.topk(data_y[:10,:], 1)\n",
    "indices"
   ]
  },
  {
   "cell_type": "code",
   "execution_count": null,
   "metadata": {
    "collapsed": true
   },
   "outputs": [],
   "source": [
    "import numpy as np\n",
    "\n",
    "######################################################################\n",
    "# Running on User Input\n",
    "# ---------------------\n",
    "#\n",
    "\n",
    "def predict(input_line, n_predictions=3):\n",
    "    print('\\n> %s' % input_line)\n",
    "    with torch.no_grad():\n",
    "        output = evaluate(lineToTensor(input_line))\n",
    "\n",
    "        # Get top N categories\n",
    "        topv, topi = output.topk(n_predictions, 1, True)\n",
    "        predictions = []\n",
    "\n",
    "        for i in range(n_predictions):\n",
    "            value = topv[0][i].item()\n",
    "            category_index = topi[0][i].item()\n",
    "            print('(%.2f) %s' % (np.exp(value), all_categories[category_index]))\n",
    "            predictions.append([value, all_categories[category_index]])\n",
    "\n",
    "predict('Dovesky')\n",
    "predict('Jackson')\n",
    "predict('Satoshi')\n",
    "\n"
   ]
  },
  {
   "cell_type": "markdown",
   "metadata": {},
   "source": [
    "## Simple RNN"
   ]
  },
  {
   "cell_type": "markdown",
   "metadata": {},
   "source": [
    "- [Pytorch RNN text classification\n",
    "](https://www.kaggle.com/geeklund/pytorch-rnn-text-classification)\n",
    "- [Sentiment Analysis with Variable length sequences in Pytorch](https://medium.com/@sonicboom8/sentiment-analysis-with-variable-length-sequences-in-pytorch-6241635ae130)\n",
    "- [Torch Docs:Recurrent layers](https://pytorch.org/docs/stable/nn.html?highlight=rnn#torch.nn.RNN)\n"
   ]
  },
  {
   "cell_type": "code",
   "execution_count": null,
   "metadata": {
    "collapsed": true
   },
   "outputs": [],
   "source": [
    "import torch\n",
    "from torch import nn"
   ]
  },
  {
   "cell_type": "code",
   "execution_count": null,
   "metadata": {
    "collapsed": true
   },
   "outputs": [],
   "source": [
    "nn.RNN(\n",
    "    input_size=, \n",
    "    hidden_size=, \n",
    "    num_layers=1, \n",
    "    nonlinearity='relu', \n",
    "    batch_first=True,\n",
    "    dropout=0.0,\n",
    "    bidirectional=False\n",
    ")"
   ]
  },
  {
   "cell_type": "code",
   "execution_count": null,
   "metadata": {
    "collapsed": true
   },
   "outputs": [],
   "source": [
    "vocab_size = len(words)\n",
    "embedding_dim = 4\n",
    "n_hidden = 5\n",
    "n_out = 2\n",
    "\n",
    "class SimpleGRU(nn.Module):\n",
    "    def __init__(self, vocab_size, embedding_dim, n_hidden, n_out):\n",
    "        super().__init__()\n",
    "        self.vocab_size,self.embedding_dim,self.n_hidden,self.n_out = vocab_size, embedding_dim, n_hidden, n_out\n",
    "        self.emb = nn.Embedding(self.vocab_size, self.embedding_dim)\n",
    "        self.gru = nn.GRU(self.embedding_dim, self.n_hidden)\n",
    "        self.out = nn.Linear(self.n_hidden, self.n_out)\n",
    "        \n",
    "    def forward(self, seq, lengths):\n",
    "        bs = seq.size(1) # batch size\n",
    "        print('batch size', bs)\n",
    "        self.h = self.init_hidden(bs) # initialize hidden state of GRU\n",
    "        print('Inititial hidden state shape', self.h.shape)\n",
    "        embs = self.emb(seq)\n",
    "        embs = pack_padded_sequence(embs, lengths) # unpad\n",
    "        gru_out, self.h = self.gru(embs, self.h) # gru returns hidden state of all timesteps as well as hidden state at last timestep\n",
    "        gru_out, lengths = pad_packed_sequence(gru_out) # pad the sequence to the max length in the batch\n",
    "        print('GRU output(all timesteps)', gru_out.shape)\n",
    "        print(gru_out)\n",
    "        print('GRU last timestep output')\n",
    "        print(gru_out[-1])\n",
    "        print('Last hidden state', self.h)\n",
    "        # since it is as classification problem, we will grab the last hidden state\n",
    "        outp = self.out(self.h[-1]) # self.h[-1] contains hidden state of last timestep\n",
    "        return F.log_softmax(outp, dim=-1)\n",
    "    \n",
    "    def init_hidden(self, batch_size):\n",
    "        return Variable(torch.zeros((1,batch_size,self.n_hidden)))\n",
    "      \n",
    "      \n",
    "m = SimpleGRU(vocab_size, embedding_dim, n_hidden, n_out)\n",
    "print(m)\n",
    "\n",
    "'''\n",
    "SimpleGRU(\n",
    "  (emb): Embedding(773042, 4)\n",
    "  (gru): GRU(4, 5)\n",
    "  (out): Linear(in_features=5, out_features=2, bias=True)\n",
    ")\n",
    "'''\n",
    "\n",
    "# function to sort batch according to tweet length\n",
    "def sort_batch(X, y, lengths):\n",
    "    lengths, indx = lengths.sort(dim=0, descending=True)\n",
    "    X = X[indx]\n",
    "    y = y[indx]\n",
    "    return X.transpose(0,1), y, lengths # transpose (batch x seq_length) to (seq_length x batch)\n",
    "  \n",
    "\n",
    "dl = DataLoader(ds, batch_size=3)\n",
    "it = iter(dl)\n",
    "xs,ys,lens =  next(it)\n",
    "xs,ys,lens = sort_batch(xs,ys,lens)\n",
    "outp = m(xs,lens.cpu().numpy())"
   ]
  },
  {
   "cell_type": "code",
   "execution_count": null,
   "metadata": {
    "collapsed": true
   },
   "outputs": [],
   "source": [
    "class RNN(nn.Module):\n",
    "    def __init__(self, input_size, output_size, hidden_dim, n_layers):\n",
    "        super(RNN, self).__init__()\n",
    "        self.hidden_dim=hidden_dim\n",
    "        # define an RNN with specified parameters\n",
    "        # batch_first means that the first dim of the input and output will be the batch_size\n",
    "        self.rnn = nn.RNN(input_size, hidden_dim, n_layers, batch_first=True)\n",
    "        # last, fully-connected layer\n",
    "        self.fc = nn.Linear(hidden_dim, output_size)\n",
    "\n",
    "    def forward(self, x, hidden):\n",
    "        # x (batch_size, seq_length, input_size)\n",
    "        # hidden (n_layers, batch_size, hidden_dim)\n",
    "        # r_out (batch_size, time_step, hidden_size)\n",
    "        batch_size = x.size(0)\n",
    "        \n",
    "        # get RNN outputs\n",
    "        r_out, hidden = self.rnn(x, hidden)\n",
    "        # shape output to be (batch_size*seq_length, hidden_dim)\n",
    "        r_out = r_out.view(-1, self.hidden_dim)  \n",
    "        \n",
    "        # get final output \n",
    "        output = self.fc(r_out)\n",
    "        \n",
    "        return output, hidden"
   ]
  },
  {
   "cell_type": "code",
   "execution_count": null,
   "metadata": {
    "collapsed": true
   },
   "outputs": [],
   "source": [
    "from __future__ import unicode_literals, print_function, division\n",
    "from io import open\n",
    "import glob\n",
    "import os"
   ]
  },
  {
   "cell_type": "code",
   "execution_count": null,
   "metadata": {
    "collapsed": true
   },
   "outputs": [],
   "source": [
    "def findFiles(path): return glob.glob(path)"
   ]
  },
  {
   "cell_type": "code",
   "execution_count": null,
   "metadata": {
    "collapsed": true
   },
   "outputs": [],
   "source": [
    "print(findFiles('data/names/*.txt'))"
   ]
  },
  {
   "cell_type": "code",
   "execution_count": null,
   "metadata": {
    "collapsed": true
   },
   "outputs": [],
   "source": [
    "import unicodedata\n",
    "import string"
   ]
  },
  {
   "cell_type": "code",
   "execution_count": null,
   "metadata": {
    "collapsed": true
   },
   "outputs": [],
   "source": [
    "all_letters"
   ]
  },
  {
   "cell_type": "code",
   "execution_count": null,
   "metadata": {
    "collapsed": true
   },
   "outputs": [],
   "source": [
    "# Turn a Unicode string to plain ASCII, thanks to http://stackoverflow.com/a/518232/2809427\n",
    "def unicodeToAscii(s):\n",
    "    return ''.join(\n",
    "        c for c in unicodedata.normalize('NFD', s)\n",
    "        if unicodedata.category(c) != 'Mn'\n",
    "        and c in all_letters\n",
    "    )"
   ]
  },
  {
   "cell_type": "code",
   "execution_count": null,
   "metadata": {
    "collapsed": true
   },
   "outputs": [],
   "source": [
    "print(unicodeToAscii('Ślusàrski'))"
   ]
  },
  {
   "cell_type": "code",
   "execution_count": null,
   "metadata": {
    "collapsed": true
   },
   "outputs": [],
   "source": []
  },
  {
   "cell_type": "code",
   "execution_count": null,
   "metadata": {
    "collapsed": true
   },
   "outputs": [],
   "source": [
    "######################################################################\n",
    "# Turning Names into Tensors\n",
    "# --------------------------\n",
    "#\n",
    "# Now that we have all the names organized, we need to turn them into\n",
    "# Tensors to make any use of them.\n",
    "#\n",
    "# To represent a single letter, we use a \"one-hot vector\" of size\n",
    "# ``<1 x n_letters>``. A one-hot vector is filled with 0s except for a 1\n",
    "# at index of the current letter, e.g. ``\"b\" = <0 1 0 0 0 ...>``.\n",
    "#\n",
    "# To make a word we join a bunch of those into a 2D matrix\n",
    "# ``<line_length x 1 x n_letters>``.\n",
    "#\n",
    "# That extra 1 dimension is because PyTorch assumes everything is in\n",
    "# batches - we're just using a batch size of 1 here.\n",
    "#\n",
    "import torch\n",
    "\n",
    "# Find letter index from all_letters, e.g. \"a\" = 0\n",
    "def letterToIndex(letter):\n",
    "    return all_letters.find(letter)\n",
    "\n",
    "# Just for demonstration, turn a letter into a <1 x n_letters> Tensor\n",
    "def letterToTensor(letter):\n",
    "    tensor = torch.zeros(1, n_letters)\n",
    "    tensor[0][letterToIndex(letter)] = 1\n",
    "    return tensor\n",
    "\n",
    "# Turn a line into a <line_length x 1 x n_letters>,\n",
    "# or an array of one-hot letter vectors\n",
    "def lineToTensor(line):\n",
    "    tensor = torch.zeros(len(line), 1, n_letters)\n",
    "    for li, letter in enumerate(line):\n",
    "        tensor[li][0][letterToIndex(letter)] = 1\n",
    "    return tensor\n",
    "\n",
    "print(letterToTensor('J'))\n",
    "\n",
    "print(lineToTensor('Jones').size())"
   ]
  },
  {
   "cell_type": "code",
   "execution_count": null,
   "metadata": {
    "collapsed": true
   },
   "outputs": [],
   "source": [
    "######################################################################\n",
    "# Creating the Network\n",
    "# ====================\n",
    "#\n",
    "# Before autograd, creating a recurrent neural network in Torch involved\n",
    "# cloning the parameters of a layer over several timesteps. The layers\n",
    "# held hidden state and gradients which are now entirely handled by the\n",
    "# graph itself. This means you can implement a RNN in a very \"pure\" way,\n",
    "# as regular feed-forward layers.\n",
    "#\n",
    "# This RNN module (mostly copied from `the PyTorch for Torch users\n",
    "# tutorial <https://pytorch.org/tutorials/beginner/former_torchies/\n",
    "# nn_tutorial.html#example-2-recurrent-net>`__)\n",
    "# is just 2 linear layers which operate on an input and hidden state, with\n",
    "# a LogSoftmax layer after the output.\n",
    "#\n",
    "# .. figure:: https://i.imgur.com/Z2xbySO.png\n",
    "#    :alt:\n",
    "#\n",
    "#\n",
    "\n",
    "import torch.nn as nn\n",
    "\n",
    "class RNN(nn.Module):\n",
    "    def __init__(self, input_size, hidden_size, output_size):\n",
    "        super(RNN, self).__init__()\n",
    "\n",
    "        self.hidden_size = hidden_size\n",
    "\n",
    "        self.i2h = nn.Linear(input_size + hidden_size, hidden_size)\n",
    "        self.i2o = nn.Linear(input_size + hidden_size, output_size)\n",
    "        self.softmax = nn.LogSoftmax(dim=1)\n",
    "\n",
    "    def forward(self, input, hidden):\n",
    "        combined = torch.cat((input, hidden), 1)\n",
    "        hidden = self.i2h(combined)\n",
    "        output = self.i2o(combined)\n",
    "        output = self.softmax(output)\n",
    "        return output, hidden\n",
    "\n",
    "    def initHidden(self):\n",
    "        return torch.zeros(1, self.hidden_size)\n",
    "\n",
    "n_hidden = 128\n",
    "rnn = RNN(n_letters, n_hidden, n_categories)\n"
   ]
  },
  {
   "cell_type": "code",
   "execution_count": null,
   "metadata": {
    "collapsed": true
   },
   "outputs": [],
   "source": [
    "######################################################################\n",
    "# To run a step of this network we need to pass an input (in our case, the\n",
    "# Tensor for the current letter) and a previous hidden state (which we\n",
    "# initialize as zeros at first). We'll get back the output (probability of\n",
    "# each language) and a next hidden state (which we keep for the next\n",
    "# step).\n",
    "#\n",
    "\n",
    "input = letterToTensor('A')\n",
    "hidden =torch.zeros(1, n_hidden)\n",
    "\n",
    "output, next_hidden = rnn(input, hidden)\n"
   ]
  },
  {
   "cell_type": "code",
   "execution_count": null,
   "metadata": {
    "collapsed": true
   },
   "outputs": [],
   "source": [
    "######################################################################\n",
    "# For the sake of efficiency we don't want to be creating a new Tensor for\n",
    "# every step, so we will use ``lineToTensor`` instead of\n",
    "# ``letterToTensor`` and use slices. This could be further optimized by\n",
    "# pre-computing batches of Tensors.\n",
    "#\n",
    "\n",
    "input = lineToTensor('Albert')\n",
    "hidden = torch.zeros(1, n_hidden)\n",
    "\n",
    "output, next_hidden = rnn(input[0], hidden)\n",
    "print(output)\n"
   ]
  },
  {
   "cell_type": "code",
   "execution_count": null,
   "metadata": {
    "collapsed": true
   },
   "outputs": [],
   "source": [
    "######################################################################\n",
    "# As you can see the output is a ``<1 x n_categories>`` Tensor, where\n",
    "# every item is the likelihood of that category (higher is more likely).\n",
    "#"
   ]
  },
  {
   "cell_type": "code",
   "execution_count": null,
   "metadata": {
    "collapsed": true
   },
   "outputs": [],
   "source": [
    "######################################################################\n",
    "#\n",
    "# Training\n",
    "# ========\n",
    "# Preparing for Training\n",
    "# ----------------------\n",
    "#\n",
    "# Before going into training we should make a few helper functions. The\n",
    "# first is to interpret the output of the network, which we know to be a\n",
    "# likelihood of each category. We can use ``Tensor.topk`` to get the index\n",
    "# of the greatest value:\n",
    "#\n",
    "\n",
    "def categoryFromOutput(output):\n",
    "    top_n, top_i = output.topk(1)\n",
    "    #print(top_n[0].item(), top_i[0].item())\n",
    "    category_i = top_i[0].item()\n",
    "    return all_categories[category_i], category_i\n",
    "\n",
    "print(categoryFromOutput(output))\n"
   ]
  },
  {
   "cell_type": "code",
   "execution_count": null,
   "metadata": {
    "collapsed": true
   },
   "outputs": [],
   "source": [
    "######################################################################\n",
    "# We will also want a quick way to get a training example (a name and its\n",
    "# language):\n",
    "#\n",
    "\n",
    "import random\n",
    "\n",
    "def randomChoice(l):\n",
    "    return l[random.randint(0, len(l) - 1)]\n",
    "\n",
    "def randomTrainingExample():\n",
    "    category = randomChoice(all_categories)\n",
    "    line = randomChoice(category_lines[category])\n",
    "    category_tensor = torch.tensor([all_categories.index(category)], dtype=torch.long)\n",
    "    line_tensor = lineToTensor(line)\n",
    "    return category, line, category_tensor, line_tensor\n",
    "\n",
    "for i in range(10):\n",
    "    category, line, category_tensor, line_tensor = randomTrainingExample()\n",
    "    print('category =', category, '/ line =', line)"
   ]
  },
  {
   "cell_type": "code",
   "execution_count": null,
   "metadata": {
    "collapsed": true
   },
   "outputs": [],
   "source": [
    "######################################################################\n",
    "# Training the Network\n",
    "# --------------------\n",
    "#\n",
    "# Now all it takes to train this network is show it a bunch of examples,\n",
    "# have it make guesses, and tell it if it's wrong.\n",
    "#\n",
    "# For the loss function ``nn.NLLLoss`` is appropriate, since the last\n",
    "# layer of the RNN is ``nn.LogSoftmax``.\n",
    "#\n",
    "\n",
    "criterion = nn.NLLLoss()"
   ]
  },
  {
   "cell_type": "code",
   "execution_count": null,
   "metadata": {
    "collapsed": true
   },
   "outputs": [],
   "source": [
    "######################################################################\n",
    "# Each loop of training will:\n",
    "#\n",
    "# -  Create input and target tensors\n",
    "# -  Create a zeroed initial hidden state\n",
    "# -  Read each letter in and\n",
    "#\n",
    "#    -  Keep hidden state for next letter\n",
    "#\n",
    "# -  Compare final output to target\n",
    "# -  Back-propagate\n",
    "# -  Return the output and loss\n",
    "#\n",
    "\n",
    "learning_rate = 0.005 # If you set this too high, it might explode. If too low, it might not learn\n",
    "\n",
    "def train(category_tensor, line_tensor):\n",
    "    hidden = rnn.initHidden()\n",
    "\n",
    "    rnn.zero_grad()\n",
    "\n",
    "    for i in range(line_tensor.size()[0]):\n",
    "        output, hidden = rnn(line_tensor[i], hidden)\n",
    "\n",
    "    loss = criterion(output, category_tensor)\n",
    "    loss.backward()\n",
    "\n",
    "    # Add parameters' gradients to their values, multiplied by learning rate\n",
    "    for p in rnn.parameters():\n",
    "        p.data.add_(-learning_rate, p.grad.data)\n",
    "\n",
    "    return output, loss.item()"
   ]
  },
  {
   "cell_type": "code",
   "execution_count": null,
   "metadata": {
    "collapsed": true
   },
   "outputs": [],
   "source": [
    "######################################################################\n",
    "# Now we just have to run that with a bunch of examples. Since the\n",
    "# ``train`` function returns both the output and loss we can print its\n",
    "# guesses and also keep track of loss for plotting. Since there are 1000s\n",
    "# of examples we print only every ``print_every`` examples, and take an\n",
    "# average of the loss.\n",
    "#\n",
    "\n",
    "import time\n",
    "import math\n",
    "\n",
    "n_iters = 100000\n",
    "print_every = 5000\n",
    "plot_every = 1000\n",
    "\n",
    "\n",
    "\n",
    "# Keep track of losses for plotting\n",
    "current_loss = 0\n",
    "all_losses = []\n",
    "\n",
    "def timeSince(since):\n",
    "    now = time.time()\n",
    "    s = now - since\n",
    "    m = math.floor(s / 60)\n",
    "    s -= m * 60\n",
    "    return '%dm %ds' % (m, s)\n"
   ]
  },
  {
   "cell_type": "code",
   "execution_count": null,
   "metadata": {
    "collapsed": true
   },
   "outputs": [],
   "source": [
    "start = time.time()\n",
    "\n",
    "for iter in range(1, n_iters + 1):\n",
    "    category, line, category_tensor, line_tensor = randomTrainingExample()\n",
    "    output, loss = train(category_tensor, line_tensor)\n",
    "    current_loss += loss\n",
    "\n",
    "    # Print iter number, loss, name and guess\n",
    "    if iter % print_every == 0:\n",
    "        guess, guess_i = categoryFromOutput(output)\n",
    "        correct = '✓' if guess == category else '✗ (%s)' % category\n",
    "        print('%d %d%% (%s) %.4f %s / %s %s' % (iter, iter / n_iters * 100, timeSince(start), loss, line, guess, correct))\n",
    "\n",
    "    # Add current loss avg to list of losses\n",
    "    if iter % plot_every == 0:\n",
    "        all_losses.append(current_loss / plot_every)\n",
    "        current_loss = 0"
   ]
  },
  {
   "cell_type": "code",
   "execution_count": null,
   "metadata": {
    "collapsed": true
   },
   "outputs": [],
   "source": [
    "######################################################################\n",
    "# Plotting the Results\n",
    "# --------------------\n",
    "#\n",
    "# Plotting the historical loss from ``all_losses`` shows the network\n",
    "# learning:\n",
    "#\n",
    "\n",
    "import matplotlib.pyplot as plt\n",
    "import matplotlib.ticker as ticker\n",
    "%matplotlib inline  \n",
    "\n",
    "plt.figure()\n",
    "plt.plot(all_losses)\n"
   ]
  },
  {
   "cell_type": "code",
   "execution_count": null,
   "metadata": {
    "collapsed": true
   },
   "outputs": [],
   "source": [
    "######################################################################\n",
    "# Evaluating the Results\n",
    "# ======================\n",
    "#\n",
    "# To see how well the network performs on different categories, we will\n",
    "# create a confusion matrix, indicating for every actual language (rows)\n",
    "# which language the network guesses (columns). To calculate the confusion\n",
    "# matrix a bunch of samples are run through the network with\n",
    "# ``evaluate()``, which is the same as ``train()`` minus the backprop.\n",
    "#\n",
    "\n",
    "# Keep track of correct guesses in a confusion matrix\n",
    "n_categories = len(set(all_categories))\n",
    "confusion = torch.zeros(n_categories, n_categories)\n",
    "n_confusion = 10000\n",
    "\n",
    "# Just return an output given a line\n",
    "def evaluate(line_tensor):\n",
    "    hidden = rnn.initHidden()\n",
    "\n",
    "    for i in range(line_tensor.size()[0]):\n",
    "        output, hidden = rnn(line_tensor[i], hidden)\n",
    "\n",
    "    return output\n",
    "\n",
    "# Go through a bunch of examples and record which are correctly guessed\n",
    "for i in range(n_confusion):\n",
    "    category, line, category_tensor, line_tensor = randomTrainingExample()\n",
    "    output = evaluate(line_tensor)\n",
    "    guess, guess_i = categoryFromOutput(output)\n",
    "    category_i = all_categories.index(category)\n",
    "    confusion[category_i][guess_i] += 1\n",
    "\n",
    "# Normalize by dividing every row by its sum\n",
    "for i in range(n_categories):\n",
    "    confusion[i] = confusion[i] / confusion[i].sum()\n",
    "# Set up plot\n",
    "fig = plt.figure(figsize=(10,10))\n",
    "ax = fig.add_subplot(111)\n",
    "cax = ax.matshow(confusion.numpy())\n",
    "fig.colorbar(cax)\n",
    "\n",
    "# Set up axes\n",
    "ax.set_xticklabels([''] + all_categories, rotation=90)\n",
    "ax.set_yticklabels([''] + all_categories)\n",
    "\n",
    "# Force label at every tick\n",
    "ax.xaxis.set_major_locator(ticker.MultipleLocator(1))\n",
    "ax.yaxis.set_major_locator(ticker.MultipleLocator(1))\n",
    "\n"
   ]
  },
  {
   "cell_type": "code",
   "execution_count": null,
   "metadata": {
    "collapsed": true
   },
   "outputs": [],
   "source": [
    "# Set up plot\n",
    "fig = plt.figure(figsize=(10,10))\n",
    "ax = fig.add_subplot(111)\n",
    "cax = ax.matshow(confusion.numpy())\n",
    "fig.colorbar(cax)\n",
    "\n",
    "# Set up axes\n",
    "ax.set_xticklabels([''] + all_categories, rotation=90)\n",
    "ax.set_yticklabels([''] + all_categories)\n",
    "\n",
    "# Force label at every tick\n",
    "ax.xaxis.set_major_locator(ticker.MultipleLocator(1))\n",
    "ax.yaxis.set_major_locator(ticker.MultipleLocator(1))\n",
    "\n"
   ]
  },
  {
   "cell_type": "code",
   "execution_count": null,
   "metadata": {
    "collapsed": true
   },
   "outputs": [],
   "source": [
    "######################################################################\n",
    "# You can pick out bright spots off the main axis that show which\n",
    "# languages it guesses incorrectly, e.g. Chinese for Korean, and Spanish\n",
    "# for Italian. It seems to do very well with Greek, and very poorly with\n",
    "# English (perhaps because of overlap with other languages).\n",
    "#\n"
   ]
  },
  {
   "cell_type": "code",
   "execution_count": null,
   "metadata": {
    "collapsed": true
   },
   "outputs": [],
   "source": [
    "import numpy as np\n",
    "\n",
    "######################################################################\n",
    "# Running on User Input\n",
    "# ---------------------\n",
    "#\n",
    "\n",
    "def predict(input_line, n_predictions=3):\n",
    "    print('\\n> %s' % input_line)\n",
    "    with torch.no_grad():\n",
    "        output = evaluate(lineToTensor(input_line))\n",
    "\n",
    "        # Get top N categories\n",
    "        topv, topi = output.topk(n_predictions, 1, True)\n",
    "        predictions = []\n",
    "\n",
    "        for i in range(n_predictions):\n",
    "            value = topv[0][i].item()\n",
    "            category_index = topi[0][i].item()\n",
    "            print('(%.2f) %s' % (np.exp(value), all_categories[category_index]))\n",
    "            predictions.append([value, all_categories[category_index]])\n",
    "\n",
    "predict('Dovesky')\n",
    "predict('Jackson')\n",
    "predict('Satoshi')\n"
   ]
  },
  {
   "cell_type": "code",
   "execution_count": null,
   "metadata": {
    "collapsed": true
   },
   "outputs": [],
   "source": [
    "######################################################################\n",
    "# The final versions of the scripts `in the Practical PyTorch\n",
    "# repo <https://github.com/spro/practical-pytorch/tree/master/char-rnn-classification>`__\n",
    "# split the above code into a few files:\n",
    "#\n",
    "# -  ``data.py`` (loads files)\n",
    "# -  ``model.py`` (defines the RNN)\n",
    "# -  ``train.py`` (runs training)\n",
    "# -  ``predict.py`` (runs ``predict()`` with command line arguments)\n",
    "# -  ``server.py`` (serve prediction as a JSON API with bottle.py)\n",
    "#\n",
    "# Run ``train.py`` to train and save the network.\n",
    "#\n",
    "# Run ``predict.py`` with a name to view predictions:\n",
    "#\n",
    "# ::\n",
    "#\n",
    "#     $ python predict.py Hazaki\n",
    "#     (-0.42) Japanese\n",
    "#     (-1.39) Polish\n",
    "#     (-3.51) Czech\n",
    "#\n",
    "# Run ``server.py`` and visit http://localhost:5533/Yourname to get JSON\n",
    "# output of predictions.\n",
    "#\n",
    "\n",
    "\n",
    "######################################################################\n",
    "# Exercises\n",
    "# =========\n",
    "#\n",
    "# -  Try with a different dataset of line -> category, for example:\n",
    "#\n",
    "#    -  Any word -> language\n",
    "#    -  First name -> gender\n",
    "#    -  Character name -> writer\n",
    "#    -  Page title -> blog or subreddit\n",
    "#\n",
    "# -  Get better results with a bigger and/or better shaped network\n",
    "#\n",
    "#    -  Add more linear layers\n",
    "#    -  Try the ``nn.LSTM`` and ``nn.GRU`` layers\n",
    "#    -  Combine multiple of these RNNs as a higher level network\n",
    "#"
   ]
  }
 ],
 "metadata": {
  "kernelspec": {
   "display_name": "allennlp",
   "language": "python",
   "name": "allennlp"
  },
  "language_info": {
   "codemirror_mode": {
    "name": "ipython",
    "version": 3
   },
   "file_extension": ".py",
   "mimetype": "text/x-python",
   "name": "python",
   "nbconvert_exporter": "python",
   "pygments_lexer": "ipython3",
   "version": "3.6.1"
  }
 },
 "nbformat": 4,
 "nbformat_minor": 2
}
